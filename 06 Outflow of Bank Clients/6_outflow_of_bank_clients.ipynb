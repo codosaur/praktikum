{
 "cells": [
  {
   "cell_type": "markdown",
   "metadata": {},
   "source": [
    "# Отток клиентов"
   ]
  },
  {
   "cell_type": "markdown",
   "metadata": {},
   "source": [
    "Из «Бета-Банка» стали уходить клиенты. Каждый месяц. Немного, но заметно. Банковские маркетологи посчитали: сохранять текущих клиентов дешевле, чем привлекать новых.\n",
    "\n",
    "Нужно спрогнозировать, уйдёт клиент из банка в ближайшее время или нет. Вам предоставлены исторические данные о поведении клиентов и расторжении договоров с банком. \n",
    "\n",
    "Постройте модель с предельно большим значением *F1*-меры. Чтобы сдать проект успешно, нужно довести метрику до 0.59. Проверьте *F1*-меру на тестовой выборке самостоятельно.\n",
    "\n",
    "Дополнительно измеряйте *AUC-ROC*, сравнивайте её значение с *F1*-мерой.\n",
    "\n",
    "Источник данных: [https://www.kaggle.com/barelydedicated/bank-customer-churn-modeling](https://www.kaggle.com/barelydedicated/bank-customer-churn-modeling)"
   ]
  },
  {
   "cell_type": "markdown",
   "metadata": {},
   "source": [
    "# 1. Подготовка данных"
   ]
  },
  {
   "cell_type": "code",
   "execution_count": 1,
   "metadata": {},
   "outputs": [],
   "source": [
    "import pandas as pd\n",
    "import numpy as np\n",
    "import matplotlib.pyplot as plt\n",
    "from sklearn.model_selection import GridSearchCV\n",
    "from sklearn.model_selection import train_test_split\n",
    "from sklearn.preprocessing import StandardScaler\n",
    "from sklearn.linear_model import LogisticRegression\n",
    "from sklearn.ensemble import RandomForestClassifier\n",
    "from sklearn.metrics import f1_score\n",
    "from sklearn.metrics import roc_curve\n",
    "from sklearn.metrics import roc_auc_score\n",
    "from sklearn.utils import shuffle"
   ]
  },
  {
   "cell_type": "code",
   "execution_count": 2,
   "metadata": {},
   "outputs": [],
   "source": [
    "# Создадим константу для фиксации случайной последовательности\n",
    "MY_RANDOM_STATE=12345"
   ]
  },
  {
   "cell_type": "code",
   "execution_count": 3,
   "metadata": {},
   "outputs": [],
   "source": [
    "# Уберем предупреждения\n",
    "import warnings\n",
    "warnings.filterwarnings('ignore')"
   ]
  },
  {
   "cell_type": "code",
   "execution_count": 4,
   "metadata": {},
   "outputs": [
    {
     "name": "stdout",
     "output_type": "stream",
     "text": [
      "<class 'pandas.core.frame.DataFrame'>\n",
      "RangeIndex: 10000 entries, 0 to 9999\n",
      "Data columns (total 14 columns):\n",
      "RowNumber          10000 non-null int64\n",
      "CustomerId         10000 non-null int64\n",
      "Surname            10000 non-null object\n",
      "CreditScore        10000 non-null int64\n",
      "Geography          10000 non-null object\n",
      "Gender             10000 non-null object\n",
      "Age                10000 non-null int64\n",
      "Tenure             9091 non-null float64\n",
      "Balance            10000 non-null float64\n",
      "NumOfProducts      10000 non-null int64\n",
      "HasCrCard          10000 non-null int64\n",
      "IsActiveMember     10000 non-null int64\n",
      "EstimatedSalary    10000 non-null float64\n",
      "Exited             10000 non-null int64\n",
      "dtypes: float64(3), int64(8), object(3)\n",
      "memory usage: 1.1+ MB\n"
     ]
    }
   ],
   "source": [
    "data = pd.read_csv('/datasets/Churn.csv')\n",
    "data.info()"
   ]
  },
  {
   "cell_type": "code",
   "execution_count": 5,
   "metadata": {},
   "outputs": [],
   "source": [
    "# Вижу избыточные колонки - это: \n",
    "# RowNumber: дублирует index\n",
    "# Surname, CustomerId: уход клиента не может зависеть от его id в банковской системе (тем более от фамилии)\n",
    "# Удалим избыточные колонки:\n",
    "data = data.drop(['RowNumber', 'Surname', 'CustomerId'], axis=1)"
   ]
  },
  {
   "cell_type": "code",
   "execution_count": 6,
   "metadata": {},
   "outputs": [],
   "source": [
    "# Оставшиеся колонки переименуем для дальнейшего удобства:\n",
    "data.columns = [\n",
    "    'credit_score',\n",
    "    'geography',\n",
    "    'gender',\n",
    "    'age',\n",
    "    'tenure',\n",
    "    'balance',\n",
    "    'number_of_products',\n",
    "    'has_credit_card',\n",
    "    'is_active_member',\n",
    "    'estimate_salary',\n",
    "    'exited'\n",
    "]"
   ]
  },
  {
   "cell_type": "markdown",
   "metadata": {},
   "source": [
    "## 1.1 Проверим данные в колонках (заполнение, аномалии)"
   ]
  },
  {
   "cell_type": "code",
   "execution_count": 7,
   "metadata": {},
   "outputs": [
    {
     "data": {
      "text/plain": [
       "array([350, 351, 358, 359, 363, 365, 367, 373, 376, 382, 383, 386, 395,\n",
       "       399, 401, 404, 405, 407, 408, 410, 411, 412, 413, 414, 415, 416,\n",
       "       417, 418, 419, 420, 421, 422, 423, 424, 425, 426, 427, 428, 429,\n",
       "       430, 431, 432, 433, 434, 435, 436, 437, 438, 439, 440, 441, 442,\n",
       "       443, 444, 445, 446, 447, 448, 449, 450, 451, 452, 453, 454, 455,\n",
       "       456, 457, 458, 459, 460, 461, 462, 463, 464, 465, 466, 467, 468,\n",
       "       469, 470, 471, 472, 473, 474, 475, 476, 477, 478, 479, 480, 481,\n",
       "       482, 483, 484, 485, 486, 487, 488, 489, 490, 491, 492, 493, 494,\n",
       "       495, 496, 497, 498, 499, 500, 501, 502, 503, 504, 505, 506, 507,\n",
       "       508, 509, 510, 511, 512, 513, 514, 515, 516, 517, 518, 519, 520,\n",
       "       521, 522, 523, 524, 525, 526, 527, 528, 529, 530, 531, 532, 533,\n",
       "       534, 535, 536, 537, 538, 539, 540, 541, 542, 543, 544, 545, 546,\n",
       "       547, 548, 549, 550, 551, 552, 553, 554, 555, 556, 557, 558, 559,\n",
       "       560, 561, 562, 563, 564, 565, 566, 567, 568, 569, 570, 571, 572,\n",
       "       573, 574, 575, 576, 577, 578, 579, 580, 581, 582, 583, 584, 585,\n",
       "       586, 587, 588, 589, 590, 591, 592, 593, 594, 595, 596, 597, 598,\n",
       "       599, 600, 601, 602, 603, 604, 605, 606, 607, 608, 609, 610, 611,\n",
       "       612, 613, 614, 615, 616, 617, 618, 619, 620, 621, 622, 623, 624,\n",
       "       625, 626, 627, 628, 629, 630, 631, 632, 633, 634, 635, 636, 637,\n",
       "       638, 639, 640, 641, 642, 643, 644, 645, 646, 647, 648, 649, 650,\n",
       "       651, 652, 653, 654, 655, 656, 657, 658, 659, 660, 661, 662, 663,\n",
       "       664, 665, 666, 667, 668, 669, 670, 671, 672, 673, 674, 675, 676,\n",
       "       677, 678, 679, 680, 681, 682, 683, 684, 685, 686, 687, 688, 689,\n",
       "       690, 691, 692, 693, 694, 695, 696, 697, 698, 699, 700, 701, 702,\n",
       "       703, 704, 705, 706, 707, 708, 709, 710, 711, 712, 713, 714, 715,\n",
       "       716, 717, 718, 719, 720, 721, 722, 723, 724, 725, 726, 727, 728,\n",
       "       729, 730, 731, 732, 733, 734, 735, 736, 737, 738, 739, 740, 741,\n",
       "       742, 743, 744, 745, 746, 747, 748, 749, 750, 751, 752, 753, 754,\n",
       "       755, 756, 757, 758, 759, 760, 761, 762, 763, 764, 765, 766, 767,\n",
       "       768, 769, 770, 771, 772, 773, 774, 775, 776, 777, 778, 779, 780,\n",
       "       781, 782, 783, 784, 785, 786, 787, 788, 789, 790, 791, 792, 793,\n",
       "       794, 795, 796, 797, 798, 799, 800, 801, 802, 803, 804, 805, 806,\n",
       "       807, 808, 809, 810, 811, 812, 813, 814, 815, 816, 817, 818, 819,\n",
       "       820, 821, 822, 823, 824, 825, 826, 827, 828, 829, 830, 831, 832,\n",
       "       833, 834, 835, 836, 837, 838, 839, 840, 841, 842, 843, 844, 845,\n",
       "       846, 847, 848, 849, 850])"
      ]
     },
     "execution_count": 7,
     "metadata": {},
     "output_type": "execute_result"
    }
   ],
   "source": [
    "np.sort(data['credit_score'].unique())"
   ]
  },
  {
   "cell_type": "code",
   "execution_count": 8,
   "metadata": {},
   "outputs": [
    {
     "data": {
      "text/plain": [
       "France     5014\n",
       "Germany    2509\n",
       "Spain      2477\n",
       "Name: geography, dtype: int64"
      ]
     },
     "execution_count": 8,
     "metadata": {},
     "output_type": "execute_result"
    }
   ],
   "source": [
    "data['geography'].value_counts()"
   ]
  },
  {
   "cell_type": "code",
   "execution_count": 9,
   "metadata": {
    "scrolled": true
   },
   "outputs": [
    {
     "data": {
      "text/plain": [
       "Male      5457\n",
       "Female    4543\n",
       "Name: gender, dtype: int64"
      ]
     },
     "execution_count": 9,
     "metadata": {},
     "output_type": "execute_result"
    }
   ],
   "source": [
    "data['gender'].value_counts()"
   ]
  },
  {
   "cell_type": "code",
   "execution_count": 10,
   "metadata": {},
   "outputs": [
    {
     "data": {
      "text/plain": [
       "array([18, 19, 20, 21, 22, 23, 24, 25, 26, 27, 28, 29, 30, 31, 32, 33, 34,\n",
       "       35, 36, 37, 38, 39, 40, 41, 42, 43, 44, 45, 46, 47, 48, 49, 50, 51,\n",
       "       52, 53, 54, 55, 56, 57, 58, 59, 60, 61, 62, 63, 64, 65, 66, 67, 68,\n",
       "       69, 70, 71, 72, 73, 74, 75, 76, 77, 78, 79, 80, 81, 82, 83, 84, 85,\n",
       "       88, 92])"
      ]
     },
     "execution_count": 10,
     "metadata": {},
     "output_type": "execute_result"
    }
   ],
   "source": [
    "np.sort(data['age'].unique())"
   ]
  },
  {
   "cell_type": "code",
   "execution_count": 11,
   "metadata": {},
   "outputs": [
    {
     "data": {
      "text/plain": [
       "0.0     1291\n",
       "1.0      952\n",
       "2.0      950\n",
       "3.0      928\n",
       "4.0      885\n",
       "5.0      927\n",
       "6.0      881\n",
       "7.0      925\n",
       "8.0      933\n",
       "9.0      882\n",
       "10.0     446\n",
       "Name: tenure, dtype: int64"
      ]
     },
     "execution_count": 11,
     "metadata": {},
     "output_type": "execute_result"
    }
   ],
   "source": [
    "# В колонке tenure есть пустые значения. \n",
    "# Можно предположить, что если tenure не указано, значит недвижимости у клиента нет.\n",
    "data.loc[data['tenure'].isnull(), 'tenure'] = 0\n",
    "data['tenure'].value_counts().sort_index()"
   ]
  },
  {
   "cell_type": "code",
   "execution_count": 12,
   "metadata": {
    "scrolled": true
   },
   "outputs": [
    {
     "data": {
      "text/plain": [
       "count     10000.000000\n",
       "mean      76485.889288\n",
       "std       62397.405202\n",
       "min           0.000000\n",
       "25%           0.000000\n",
       "50%       97198.540000\n",
       "75%      127644.240000\n",
       "max      250898.090000\n",
       "Name: balance, dtype: float64"
      ]
     },
     "execution_count": 12,
     "metadata": {},
     "output_type": "execute_result"
    }
   ],
   "source": [
    "data['balance'].describe()"
   ]
  },
  {
   "cell_type": "code",
   "execution_count": 13,
   "metadata": {},
   "outputs": [
    {
     "data": {
      "text/plain": [
       "1    5084\n",
       "2    4590\n",
       "3     266\n",
       "4      60\n",
       "Name: number_of_products, dtype: int64"
      ]
     },
     "execution_count": 13,
     "metadata": {},
     "output_type": "execute_result"
    }
   ],
   "source": [
    "data['number_of_products'].value_counts().sort_index()"
   ]
  },
  {
   "cell_type": "code",
   "execution_count": 14,
   "metadata": {},
   "outputs": [
    {
     "data": {
      "text/plain": [
       "0    2945\n",
       "1    7055\n",
       "Name: has_credit_card, dtype: int64"
      ]
     },
     "execution_count": 14,
     "metadata": {},
     "output_type": "execute_result"
    }
   ],
   "source": [
    "data['has_credit_card'].value_counts().sort_index()"
   ]
  },
  {
   "cell_type": "code",
   "execution_count": 15,
   "metadata": {},
   "outputs": [
    {
     "data": {
      "text/plain": [
       "0    4849\n",
       "1    5151\n",
       "Name: is_active_member, dtype: int64"
      ]
     },
     "execution_count": 15,
     "metadata": {},
     "output_type": "execute_result"
    }
   ],
   "source": [
    "data['is_active_member'].value_counts().sort_index()"
   ]
  },
  {
   "cell_type": "code",
   "execution_count": 16,
   "metadata": {
    "scrolled": true
   },
   "outputs": [
    {
     "data": {
      "text/plain": [
       "0    7963\n",
       "1    2037\n",
       "Name: exited, dtype: int64"
      ]
     },
     "execution_count": 16,
     "metadata": {},
     "output_type": "execute_result"
    }
   ],
   "source": [
    "data['exited'].value_counts().sort_index()"
   ]
  },
  {
   "cell_type": "code",
   "execution_count": 17,
   "metadata": {},
   "outputs": [],
   "source": [
    "# Используя \"прямое кодирование\" (OHE) заменим категориальные признаки в колонках geography, gender\n",
    "if (('geography' and 'gender') in data.columns.tolist()):\n",
    "    data = pd.get_dummies(data, columns=['geography', 'gender'], drop_first=True)"
   ]
  },
  {
   "cell_type": "markdown",
   "metadata": {},
   "source": [
    "Разделим исходную выборку:"
   ]
  },
  {
   "cell_type": "code",
   "execution_count": 18,
   "metadata": {},
   "outputs": [
    {
     "name": "stdout",
     "output_type": "stream",
     "text": [
      "(6000, 11) (6000,)\n",
      "(2000, 11) (2000,)\n",
      "(2000, 11) (2000,)\n"
     ]
    }
   ],
   "source": [
    "# Создаем train, valid и test выборки (3:1:1)\n",
    "features = data.drop('exited', axis=1)\n",
    "target = data['exited']\n",
    "\n",
    "# Сначала выделяем тестовую выборку _test\n",
    "features_train_valid, features_test, target_train_valid, target_test = train_test_split(\n",
    "    features, target, test_size=0.2, random_state=MY_RANDOM_STATE)\n",
    "\n",
    "# То что осталось делим на тренировочную и валидационную\n",
    "features_train, features_valid, target_train, target_valid = train_test_split(\n",
    "    features_train_valid, target_train_valid, test_size=0.25, random_state=MY_RANDOM_STATE)\n",
    "\n",
    "print(features_train.shape, target_train.shape)\n",
    "print(features_valid.shape, target_valid.shape)\n",
    "print(features_test.shape, target_test.shape)"
   ]
  },
  {
   "cell_type": "code",
   "execution_count": 19,
   "metadata": {},
   "outputs": [],
   "source": [
    "# Проведем масштаблирование для численных признаков (не трогаем те, которые принимают значения 0 или 1)\n",
    "numeric = ['credit_score', 'age', 'tenure', 'balance', 'number_of_products', 'estimate_salary']\n",
    "\n",
    "scaler = StandardScaler()\n",
    "scaler.fit(features_train[numeric])\n",
    "features_train_valid[numeric] = scaler.transform(features_train_valid[numeric])\n",
    "features_train[numeric] = scaler.transform(features_train[numeric])\n",
    "features_valid[numeric] = scaler.transform(features_valid[numeric])\n",
    "features_test[numeric] = scaler.transform(features_test[numeric])"
   ]
  },
  {
   "cell_type": "markdown",
   "metadata": {},
   "source": [
    "По итогам мы не выявили каких-либо аномалий в данных. Также мы подготовили данные для дальнейших исследований:\n",
    "* заменили категориальные признаки численными, используя прямое кодирование\n",
    "* выполнили масштабирования для численных признаков"
   ]
  },
  {
   "cell_type": "markdown",
   "metadata": {},
   "source": [
    "# 2. Исследование задачи"
   ]
  },
  {
   "cell_type": "markdown",
   "metadata": {},
   "source": [
    "Проверим баланс классов в целевом признаке <code>exited</code>"
   ]
  },
  {
   "cell_type": "code",
   "execution_count": 20,
   "metadata": {},
   "outputs": [
    {
     "name": "stdout",
     "output_type": "stream",
     "text": [
      "train\n",
      "0: 4781\n",
      "1: 1219\n",
      "ratio: 3.922067268252666 : 1\n",
      "\n",
      "data\n",
      "0: 7963\n",
      "1: 2037\n",
      "3.9091801669121256\n"
     ]
    }
   ],
   "source": [
    "# Реализуем отдельную процедуру для проверки баланса классов в целевом признаке\n",
    "def print_ratio_zeros_ones(target):\n",
    "    n_zeros = target[target == 0].shape[0]\n",
    "    n_ones = target[target == 1].shape[0]\n",
    "    print('0:', n_zeros)\n",
    "    print('1:', n_ones)\n",
    "    if (n_zeros < n_ones):\n",
    "        print('ratio:', 1, ':', n_ones / n_zeros)\n",
    "    else:\n",
    "        print('ratio:', n_zeros / n_ones, ':', 1)\n",
    "\n",
    "# Проверим, что мы имеем в трейне\n",
    "print('train')\n",
    "print_ratio_zeros_ones(target_train)\n",
    "\n",
    "print()\n",
    "\n",
    "# Для контроля проверим также соотношение классов в исходном датасете\n",
    "print('data')\n",
    "n_zeros = data.query('exited == 0').shape[0]\n",
    "n_ones = data.query('exited == 1').shape[0]\n",
    "print('0:', n_zeros)\n",
    "print('1:', n_ones)\n",
    "print(n_zeros / n_ones)"
   ]
  },
  {
   "cell_type": "markdown",
   "metadata": {},
   "source": [
    "Классы явно не сбалансированы. \"0\" больше чем \"1\" почти в 4 раза.\n",
    "\n",
    "Пока продолжим изучением данных без учета дизбаланса. Сейчас (и далее уже после борьбы с дисбалансом) будем использовать модель случайный лес (DecisionTreeClassifier)."
   ]
  },
  {
   "cell_type": "code",
   "execution_count": 21,
   "metadata": {},
   "outputs": [],
   "source": [
    "# Сразу зафиксируем множитель для дальнейшей борьбы с дисбалансом\n",
    "SAMPLING_MULTIPLIER = 4"
   ]
  },
  {
   "cell_type": "code",
   "execution_count": 22,
   "metadata": {},
   "outputs": [
    {
     "name": "stdout",
     "output_type": "stream",
     "text": [
      "18 0.5585023400936038\n"
     ]
    }
   ],
   "source": [
    "# Подберем оптимальное значение гиперпараметра max_depth для модели с 20 деревьями\n",
    "optimal_depth = 0\n",
    "f1_basic = 0\n",
    "\n",
    "for depth in range(1, 21, 1):\n",
    "    model = RandomForestClassifier(n_estimators=20, max_depth=depth, random_state=MY_RANDOM_STATE)\n",
    "    model.fit(features_train, target_train)\n",
    "    predicted_valid = model.predict(features_valid)\n",
    "    f1 = f1_score(target_valid, predicted_valid)\n",
    "    if f1 > f1_basic:\n",
    "        optimal_depth = depth\n",
    "        f1_basic = f1\n",
    "        \n",
    "print(optimal_depth, f1_basic)"
   ]
  },
  {
   "cell_type": "code",
   "execution_count": 23,
   "metadata": {},
   "outputs": [
    {
     "data": {
      "image/png": "[encoded data removed]",
      "text/plain": [
       "<Figure size 432x288 with 1 Axes>"
      ]
     },
     "metadata": {
      "needs_background": "light"
     },
     "output_type": "display_data"
    },
    {
     "name": "stdout",
     "output_type": "stream",
     "text": [
      "0.8296013949666121\n"
     ]
    }
   ],
   "source": [
    "model = RandomForestClassifier(n_estimators=20, max_depth=optimal_depth, random_state=MY_RANDOM_STATE)\n",
    "model.fit(features_train, target_train)\n",
    "\n",
    "# Для удобства реализуем процедуру, которая для указанной обученной модели:\n",
    "# - возвращает значение метрики AUC-ROC\n",
    "# - строит график ROC-кривой (если print_plot = True)\n",
    "def get_roc_auc_and_print_roc_plot(model, features, target, print_plot):\n",
    "    proba = model.predict_proba(features)\n",
    "    proba_ones = proba[:, 1]\n",
    "    \n",
    "    if (print_plot):\n",
    "        fpr, tpr, thresholds = roc_curve(target, proba_ones)\n",
    "        plt.figure()\n",
    "        plt.plot([0, 1], [0, 1], linestyle='--')\n",
    "        plt.plot(fpr, tpr)\n",
    "        plt.xlim(0, 1)\n",
    "        plt.ylim(0, 1)\n",
    "        plt.xlabel('fpr')\n",
    "        plt.ylabel('tpr')\n",
    "        plt.title('ROC curve')\n",
    "        plt.show()\n",
    "    \n",
    "    return roc_auc_score(target, proba_ones)\n",
    "\n",
    "roc_auc_basic = get_roc_auc_and_print_roc_plot(model, features_valid, target_valid, True)\n",
    "print(roc_auc_basic)"
   ]
  },
  {
   "cell_type": "markdown",
   "metadata": {},
   "source": [
    "Дополнительно проверим результаты, которые можно получить **логистической регрессией**. Классификацию деревом решений опускаю, т.к. одно дерево явно не может тягаться с лесом."
   ]
  },
  {
   "cell_type": "code",
   "execution_count": 24,
   "metadata": {},
   "outputs": [
    {
     "name": "stdout",
     "output_type": "stream",
     "text": [
      "0.3056603773584906\n"
     ]
    },
    {
     "data": {
      "image/png": "[encoded data removed]",
      "text/plain": [
       "<Figure size 432x288 with 1 Axes>"
      ]
     },
     "metadata": {
      "needs_background": "light"
     },
     "output_type": "display_data"
    },
    {
     "name": "stdout",
     "output_type": "stream",
     "text": [
      "0.7708334989087915\n"
     ]
    }
   ],
   "source": [
    "model = LogisticRegression(random_state=MY_RANDOM_STATE)\n",
    "model.fit(features_train, target_train)\n",
    "predicted_valid = model.predict(features_valid)\n",
    "f1_log_reg = f1_score(target_valid, predicted_valid)\n",
    "print(f1_log_reg)\n",
    "\n",
    "roc_log_reg = get_roc_auc_and_print_roc_plot(model, features_valid, target_valid, True)\n",
    "print(roc_log_reg)"
   ]
  },
  {
   "cell_type": "markdown",
   "metadata": {},
   "source": [
    "### Вывод\n",
    "\n",
    "Даже с 20 деревьями **в случайном лесе**, даже без борьбы с дисбалансом метрика F1 показала значение более 0,59. Ранее мы выяснили, что в целевом признаке класс \"1\" встречается в 4 раза реже, чем \"0\". Применим известные нам методы для орьбы с дисбалансом и посмотрим, изменится ли метрика F1.\n",
    "\n",
    "Модель **логистической регрессии** не выдержала конкуренции. Полученные метрики меньше чем у случайного леса: например, f1 - 0,59 против 0,33. \n",
    "\n",
    "Далее при работе будем использовать только модель **случайный лес**."
   ]
  },
  {
   "cell_type": "markdown",
   "metadata": {},
   "source": [
    "# 3. Борьба с дисбалансом"
   ]
  },
  {
   "cell_type": "markdown",
   "metadata": {},
   "source": [
    "Применим 3 изученных метода для борьбы с дисбалансом:\n",
    "* Взвешивание классов\n",
    "* Увеличение выборки\n",
    "* Уменьшение выборки\n",
    "и сравним результаты"
   ]
  },
  {
   "cell_type": "markdown",
   "metadata": {},
   "source": [
    "### 3.1 Взвешивание классов"
   ]
  },
  {
   "cell_type": "code",
   "execution_count": 25,
   "metadata": {},
   "outputs": [
    {
     "name": "stdout",
     "output_type": "stream",
     "text": [
      "Взвешивание классов\n",
      "0.5333333333333333\n"
     ]
    },
    {
     "data": {
      "image/png": "[encoded data removed]",
      "text/plain": [
       "<Figure size 432x288 with 1 Axes>"
      ]
     },
     "metadata": {
      "needs_background": "light"
     },
     "output_type": "display_data"
    },
    {
     "name": "stdout",
     "output_type": "stream",
     "text": [
      "0.8259939693444324\n"
     ]
    }
   ],
   "source": [
    "# В модель добавим гиперпараметр class_weight\n",
    "print('Взвешивание классов')\n",
    "\n",
    "model = RandomForestClassifier(n_estimators=20, max_depth=optimal_depth, random_state=MY_RANDOM_STATE, class_weight='balanced')\n",
    "model.fit(features_train, target_train)\n",
    "predicted_valid = model.predict(features_valid)\n",
    "f1_balanced_classes = f1_score(target_valid, predicted_valid)\n",
    "print(f1_balanced_classes)\n",
    "\n",
    "roc_auc_balanced_classes = get_roc_auc_and_print_roc_plot(model, features_valid, target_valid, True)\n",
    "print(roc_auc_balanced_classes)"
   ]
  },
  {
   "cell_type": "markdown",
   "metadata": {},
   "source": [
    "### Подготовим выборки для upsampling и downsampling"
   ]
  },
  {
   "cell_type": "code",
   "execution_count": 26,
   "metadata": {},
   "outputs": [],
   "source": [
    "# В дальнейшем нам понадобится неоднократно повторять upsampling, \n",
    "# когда мы будем подбирать оптимальные параметры модели.\n",
    "# Предусмотрим отдельную процедуру\n",
    "def apply_sampling(features, target, updown):\n",
    "    features_zeros = features[target == 0]\n",
    "    features_ones = features[target == 1]\n",
    "    target_zeros = target[target == 0]\n",
    "    target_ones = target[target == 1]\n",
    "\n",
    "    if (updown == 'up'):\n",
    "        features_upsampled = pd.concat([features_zeros] + SAMPLING_MULTIPLIER * [features_ones])\n",
    "        target_upsampled = pd.concat([target_zeros] + SAMPLING_MULTIPLIER * [target_ones])\n",
    "        features_upsampled, target_upsampled = shuffle(\n",
    "            features_upsampled, target_upsampled, random_state=MY_RANDOM_STATE)\n",
    "        return features_upsampled, target_upsampled\n",
    "    else:\n",
    "        features_downsampled = pd.concat(\n",
    "            [features_zeros.sample(frac=1/SAMPLING_MULTIPLIER, random_state=MY_RANDOM_STATE)] + [features_ones])\n",
    "        target_downsampled = pd.concat(\n",
    "            [target_zeros.sample(frac=1/SAMPLING_MULTIPLIER, random_state=MY_RANDOM_STATE)] + [target_ones])\n",
    "        features_downsampled, target_downsampled = shuffle(\n",
    "            features_downsampled, target_downsampled, random_state=MY_RANDOM_STATE)\n",
    "        return features_downsampled, target_downsampled\n",
    "        \n",
    "\n",
    "# И выполним up и down\n",
    "features_train_upsampled, target_train_upsampled = apply_sampling(features_train, target_train, \"up\")\n",
    "features_train_downsampled, target_train_downsampled = apply_sampling(features_train, target_train, \"down\")"
   ]
  },
  {
   "cell_type": "markdown",
   "metadata": {},
   "source": [
    "<font color=green>Получились близкие пропорции, молодец."
   ]
  },
  {
   "cell_type": "code",
   "execution_count": 27,
   "metadata": {},
   "outputs": [
    {
     "name": "stdout",
     "output_type": "stream",
     "text": [
      "upsampling\n",
      "0: 4781\n",
      "1: 4876\n",
      "ratio: 1 : 1.019870320016733\n",
      "\n",
      "downsampling\n",
      "0: 1195\n",
      "1: 1219\n",
      "ratio: 1 : 1.0200836820083683\n"
     ]
    }
   ],
   "source": [
    "# Проверим ушел ли дисбаланс классов\n",
    "print('upsampling')\n",
    "print_ratio_zeros_ones(target_train_upsampled)\n",
    "print()\n",
    "print('downsampling')\n",
    "print_ratio_zeros_ones(target_train_downsampled)"
   ]
  },
  {
   "cell_type": "markdown",
   "metadata": {},
   "source": [
    "Выборки подготовлены: соотношение \"0\" и \"1\" стало примерно 1 к 1."
   ]
  },
  {
   "cell_type": "markdown",
   "metadata": {},
   "source": [
    "### 3.2 Увеличение выборки"
   ]
  },
  {
   "cell_type": "code",
   "execution_count": 28,
   "metadata": {
    "scrolled": false
   },
   "outputs": [
    {
     "name": "stdout",
     "output_type": "stream",
     "text": [
      "upsampling\n",
      "0.5583333333333333\n"
     ]
    },
    {
     "data": {
      "image/png": "[encoded data removed]",
      "text/plain": [
       "<Figure size 432x288 with 1 Axes>"
      ]
     },
     "metadata": {
      "needs_background": "light"
     },
     "output_type": "display_data"
    },
    {
     "name": "stdout",
     "output_type": "stream",
     "text": [
      "0.8330427152891584\n"
     ]
    }
   ],
   "source": [
    "model = RandomForestClassifier(n_estimators=20, max_depth=optimal_depth, random_state=MY_RANDOM_STATE)\n",
    "\n",
    "print('upsampling')\n",
    "model.fit(features_train_upsampled, target_train_upsampled)\n",
    "predicted_valid = model.predict(features_valid)\n",
    "f1_upsampling = f1_score(target_valid, predicted_valid)\n",
    "print(f1_upsampling)\n",
    "\n",
    "roc_auc_upsampling = get_roc_auc_and_print_roc_plot(model, features_valid, target_valid, True)\n",
    "print(roc_auc_upsampling)"
   ]
  },
  {
   "cell_type": "code",
   "execution_count": 29,
   "metadata": {},
   "outputs": [
    {
     "name": "stdout",
     "output_type": "stream",
     "text": [
      "0.5905006418485238\n"
     ]
    }
   ],
   "source": [
    "# !!! удалить\n",
    "predicted_test = model.predict(features_test)\n",
    "f1_111 = f1_score(target_test, predicted_test)\n",
    "print(f1_111)"
   ]
  },
  {
   "cell_type": "markdown",
   "metadata": {},
   "source": [
    "### 3.3 Уменьшение выборки"
   ]
  },
  {
   "cell_type": "code",
   "execution_count": 30,
   "metadata": {
    "scrolled": false
   },
   "outputs": [
    {
     "name": "stdout",
     "output_type": "stream",
     "text": [
      "downsampling\n",
      "0.5516569200779726\n"
     ]
    },
    {
     "data": {
      "image/png": "[encoded data removed]",
      "text/plain": [
       "<Figure size 432x288 with 1 Axes>"
      ]
     },
     "metadata": {
      "needs_background": "light"
     },
     "output_type": "display_data"
    },
    {
     "name": "stdout",
     "output_type": "stream",
     "text": [
      "0.8255099591651182\n"
     ]
    }
   ],
   "source": [
    "print('downsampling')\n",
    "model.fit(features_train_downsampled, target_train_downsampled)\n",
    "predicted_valid = model.predict(features_valid)\n",
    "f1_downsampling = f1_score(target_valid, predicted_valid)\n",
    "print(f1_downsampling)\n",
    "\n",
    "roc_auc_downsampling = get_roc_auc_and_print_roc_plot(model, features_valid, target_valid, True)\n",
    "print(roc_auc_downsampling)"
   ]
  },
  {
   "cell_type": "markdown",
   "metadata": {},
   "source": [
    "Собираем все полученные метрики для модели **\"случайный лес с 20 деревьями\"** в одну таблицу:"
   ]
  },
  {
   "cell_type": "code",
   "execution_count": 31,
   "metadata": {},
   "outputs": [
    {
     "name": "stdout",
     "output_type": "stream",
     "text": [
      "*** случайный лес с 20 деревьями ***\n",
      "|модель              |F1        |ROC-AUC   |\n",
      "|с дисбалансом       |    0.5585|    0.8296|\n",
      "|взвешивание классов |    0.5333|    0.8260|\n",
      "|upsampling          |    0.5583|    0.8330|\n",
      "|downsampling        |    0.5517|    0.8255|\n"
     ]
    }
   ],
   "source": [
    "print('*** случайный лес с 20 деревьями ***')\n",
    "print('|{:<20}|{:<10}|{:<10}|'.format('модель', 'F1', 'ROC-AUC'))\n",
    "print('|{:<20}|{:>10.4f}|{:>10.4f}|'.format('с дисбалансом', f1_basic, roc_auc_basic))\n",
    "print('|{:<20}|{:>10.4f}|{:>10.4f}|'.format('взвешивание классов', f1_balanced_classes, roc_auc_balanced_classes))\n",
    "print('|{:<20}|{:>10.4f}|{:>10.4f}|'.format('upsampling', f1_upsampling, roc_auc_upsampling))\n",
    "print('|{:<20}|{:>10.4f}|{:>10.4f}|'.format('downsampling', f1_downsampling, roc_auc_downsampling))"
   ]
  },
  {
   "cell_type": "markdown",
   "metadata": {},
   "source": [
    "В итоге:\n",
    "* Максимальное значение метрики F1 было достигнуто для модели с предварительным преобразованием выборки методом увеличения выборки. Выберем эту модель для финального тестирования\n",
    "* Значение метрики ROC-AUC практически не менялось и даже для несбалансированной модели и после борьбы с дисбалансом"
   ]
  },
  {
   "cell_type": "markdown",
   "metadata": {},
   "source": [
    "Далее мы сделаем:\n",
    "1. Сначала с помощью **подбора по сетке** (кросс-валидации) найдем лучшие параметры для для достижения максимального значения метрики f1.\n",
    "2. К сожалению, типовая кросс-валидация не умеет делать дополнительный upsampling тренировочной выборки (не нашел как). Поэтому мы напишем **свою процедуру кросс-валидации**, которую можно будет использовать вместе с борьбой с дисбалансом.\n",
    "3. Для контроля корректности работы новой процедуры сначала **запустим ее без upsampling и сравним результаты с п.1**\n",
    "4. **Запустим процедуру с upsampling** и посмотрим, что получится.\n",
    "\n",
    "Для того, чтобы было корректно сравнивать результаты пп. 1 и 3 необходимо иметь одинаковые разбиения выборки. Это возможно с использованием метода KFold."
   ]
  },
  {
   "cell_type": "code",
   "execution_count": 40,
   "metadata": {},
   "outputs": [],
   "source": [
    "# Зафиксируем сетку, по которой будет выполняться проверка\n",
    "grid = {\n",
    "    'criterion': ['gini', 'entropy'],\n",
    "    'n_estimators': range(20, 61, 10),\n",
    "    'max_depth': range(10, 21, 2),\n",
    "    'min_samples_split': range(2, 5, 1),\n",
    "    'min_samples_leaf': range(1, 4, 1)\n",
    "}"
   ]
  },
  {
   "cell_type": "code",
   "execution_count": 41,
   "metadata": {},
   "outputs": [
    {
     "name": "stdout",
     "output_type": "stream",
     "text": [
      "[2 3 4 5 6 7 8 9] [0 1]\n",
      "[0 1 4 5 6 7 8 9] [2 3]\n",
      "[0 1 2 3 6 7 8 9] [4 5]\n",
      "[0 1 2 3 4 5 8 9] [6 7]\n",
      "[0 1 2 3 4 5 6 7] [8 9]\n"
     ]
    }
   ],
   "source": [
    "# Для себя проверяю и демонстрирую работу KFold\n",
    "df = pd.DataFrame({\n",
    "    'x': [0,1,2,3,4,5,6,7,8,9],\n",
    "    'y': [0,10,20,30,40,50,60,70,80,90]\n",
    "})\n",
    "x = df.drop('y', axis=1)\n",
    "y = df['y']\n",
    "\n",
    "from sklearn.model_selection import KFold\n",
    "kfold = KFold(n_splits=5, random_state=MY_RANDOM_STATE)\n",
    "for train_index, valid_index in kfold.split(x):\n",
    "    print(train_index, valid_index)\n",
    "# далее сделать срез в x и у по массиву индексов можно например так: x.loc[train_index]"
   ]
  },
  {
   "cell_type": "code",
   "execution_count": 42,
   "metadata": {},
   "outputs": [],
   "source": [
    "# Перед тем как запускать метод KFold надо сделать reset_index для features и target,\n",
    "# чтобы потом по полученным через KFold.split() индексам (а по факту номерам строк, а не индексам) \n",
    "# смогли безошибочно получить строки таблиц\n",
    "features_train_valid = features_train_valid.reset_index(drop=True)\n",
    "target_train_valid = target_train_valid.reset_index(drop=True)"
   ]
  },
  {
   "cell_type": "code",
   "execution_count": 43,
   "metadata": {},
   "outputs": [
    {
     "name": "stdout",
     "output_type": "stream",
     "text": [
      "0.5864218602205642\n",
      "{'criterion': 'entropy', 'max_depth': 18, 'min_samples_leaf': 1, 'min_samples_split': 4, 'n_estimators': 30}\n",
      "CPU times: user 19min 58s, sys: 2.38 s, total: 20min\n",
      "Wall time: 20min 2s\n"
     ]
    }
   ],
   "source": [
    "%%time\n",
    "\n",
    "model = RandomForestClassifier(random_state=MY_RANDOM_STATE)\n",
    "# Обращаю внимание, что при разбиении используем созданную ранее kfold\n",
    "gs = GridSearchCV(model, grid, scoring='f1', cv=kfold)\n",
    "gs.fit(features_train_valid, target_train_valid)\n",
    "print(gs.best_score_)\n",
    "print(gs.best_params_)"
   ]
  },
  {
   "cell_type": "code",
   "execution_count": 44,
   "metadata": {
    "scrolled": true
   },
   "outputs": [],
   "source": [
    "# Теперь реализуем свою кросс-валидацию\n",
    "def GridSearchCV_with_sampling(features, target, kfold, updown):\n",
    "    \n",
    "    best_estimator = 0\n",
    "    best_score = 0\n",
    "    \n",
    "#     Для каждой модели из декартова произведения всех моделей по сетке параметров\n",
    "#     определим лучшее значение метрики f1\n",
    "    for criterion in grid['criterion']:\n",
    "        for n_estimators in grid['n_estimators']:\n",
    "            for max_depth in grid['max_depth']:\n",
    "                for min_samples_split in grid['min_samples_split']:\n",
    "                    for min_samples_leaf in grid['min_samples_leaf']:\n",
    "                        \n",
    "                        model = RandomForestClassifier(random_state=MY_RANDOM_STATE,\n",
    "                                                       criterion=criterion,\n",
    "                                                       n_estimators=n_estimators,\n",
    "                                                       max_depth=max_depth,\n",
    "                                                       min_samples_split=min_samples_split,\n",
    "                                                       min_samples_leaf=min_samples_leaf\n",
    "                                                      )\n",
    "                        \n",
    "                        f1_scores = []\n",
    "                        \n",
    "                        for train_index, valid_index in kfold.split(features):\n",
    "                            x_train = features.loc[train_index]\n",
    "                            x_valid = features.loc[valid_index]\n",
    "                            y_train = target.loc[train_index]\n",
    "                            y_valid = target.loc[valid_index]\n",
    "                            \n",
    "                            if (updown == 'up'):\n",
    "                                x_train, y_train = apply_sampling(x_train, y_train, 'up')\n",
    "                            elif (updown == 'down'):\n",
    "                                x_train, y_train = apply_sampling(x_train, y_train, 'down')\n",
    "                            \n",
    "                            model.fit(x_train, y_train)\n",
    "                            p_valid = model.predict(x_valid)\n",
    "                            f1_scores.append(f1_score(y_valid, p_valid))\n",
    "                            \n",
    "#                         находим среднее значение метрики по набору разбиений\n",
    "#                         и если оно лучше, чем найденное раньше сохраняем модель и метрику\n",
    "                        f1_mean = sum(f1_scores) / len(f1_scores)\n",
    "                        if (f1_mean > best_score):\n",
    "                            best_score = f1_mean\n",
    "                            best_estimator = model\n",
    "    \n",
    "    return best_estimator, best_score"
   ]
  },
  {
   "cell_type": "code",
   "execution_count": 45,
   "metadata": {},
   "outputs": [
    {
     "name": "stdout",
     "output_type": "stream",
     "text": [
      "0.5864218602205643\n",
      "{'bootstrap': True, 'class_weight': None, 'criterion': 'entropy', 'max_depth': 18, 'max_features': 'auto', 'max_leaf_nodes': None, 'min_impurity_decrease': 0.0, 'min_impurity_split': None, 'min_samples_leaf': 1, 'min_samples_split': 4, 'min_weight_fraction_leaf': 0.0, 'n_estimators': 30, 'n_jobs': None, 'oob_score': False, 'random_state': 12345, 'verbose': 0, 'warm_start': False}\n",
      "CPU times: user 20min 16s, sys: 2.36 s, total: 20min 19s\n",
      "Wall time: 20min 25s\n"
     ]
    }
   ],
   "source": [
    "%%time\n",
    "\n",
    "# для своей кросс-валидации используем то же разбиение kfold\n",
    "best_estimator, best_score = GridSearchCV_with_sampling(features_train_valid, target_train_valid, kfold, '')\n",
    "print(best_score)\n",
    "print(best_estimator.get_params())"
   ]
  },
  {
   "cell_type": "markdown",
   "metadata": {},
   "source": [
    "В ручном режиме и с помощью типовой процедуры мы получили один и тот же результат, значит наша **ручная кросс-валидация работает корректно**. Теперь **используем ее вместе с upsampling**."
   ]
  },
  {
   "cell_type": "code",
   "execution_count": 46,
   "metadata": {},
   "outputs": [
    {
     "name": "stdout",
     "output_type": "stream",
     "text": [
      "0.6121655979458481\n",
      "{'bootstrap': True, 'class_weight': None, 'criterion': 'gini', 'max_depth': 10, 'max_features': 'auto', 'max_leaf_nodes': None, 'min_impurity_decrease': 0.0, 'min_impurity_split': None, 'min_samples_leaf': 1, 'min_samples_split': 4, 'min_weight_fraction_leaf': 0.0, 'n_estimators': 50, 'n_jobs': None, 'oob_score': False, 'random_state': 12345, 'verbose': 0, 'warm_start': False}\n",
      "CPU times: user 29min 42s, sys: 3.14 s, total: 29min 45s\n",
      "Wall time: 30min 10s\n"
     ]
    }
   ],
   "source": [
    "%%time\n",
    "\n",
    "best_estimator, best_score = GridSearchCV_with_sampling(features_train_valid, target_train_valid, kfold, 'up')\n",
    "print(best_score)\n",
    "print(best_estimator.get_params())"
   ]
  },
  {
   "cell_type": "markdown",
   "metadata": {},
   "source": [
    "В итоге мы подобрали лучшие параметры (в рамках заданой сетки параметров) для модели случайный лес. Также мы видим, что ожидаемо подбор по сетке вкупе с борьбой с балансом работает лучше, что только подбор по сетке. Применим модель для тестовой выборки."
   ]
  },
  {
   "cell_type": "markdown",
   "metadata": {},
   "source": [
    "# 4. Тестирование модели"
   ]
  },
  {
   "cell_type": "markdown",
   "metadata": {},
   "source": [
    "Итак в предыдущей ячейке мы получили лучшую модель. Сейчас она хранится в переменной `best_estimator`. Применим ее для тестовой выборки."
   ]
  },
  {
   "cell_type": "code",
   "execution_count": 47,
   "metadata": {},
   "outputs": [
    {
     "name": "stdout",
     "output_type": "stream",
     "text": [
      "0.631236442516269\n"
     ]
    },
    {
     "data": {
      "image/png": "[encoded data removed]",
      "text/plain": [
       "<Figure size 432x288 with 1 Axes>"
      ]
     },
     "metadata": {
      "needs_background": "light"
     },
     "output_type": "display_data"
    },
    {
     "name": "stdout",
     "output_type": "stream",
     "text": [
      "0.861246056477055\n"
     ]
    }
   ],
   "source": [
    "model = best_estimator\n",
    "predicted_test = model.predict(features_test)\n",
    "f1_final = f1_score(target_test, predicted_test)\n",
    "print(f1_final)\n",
    "\n",
    "roc_auc_final = get_roc_auc_and_print_roc_plot(model, features_test, target_test, True)\n",
    "print(roc_auc_final)"
   ]
  },
  {
   "cell_type": "markdown",
   "metadata": {},
   "source": [
    "**Нужный показатель метрики F1 достигнут (0,6312 против требуемых 0,62)**"
   ]
  }
 ],
 "metadata": {
  "kernelspec": {
   "display_name": "Python 3",
   "language": "python",
   "name": "python3"
  },
  "language_info": {
   "codemirror_mode": {
    "name": "ipython",
    "version": 3
   },
   "file_extension": ".py",
   "mimetype": "text/x-python",
   "name": "python",
   "nbconvert_exporter": "python",
   "pygments_lexer": "ipython3",
   "version": "3.7.4"
  }
 },
 "nbformat": 4,
 "nbformat_minor": 2
}
