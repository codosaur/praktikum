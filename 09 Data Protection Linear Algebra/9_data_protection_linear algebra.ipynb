{
 "cells": [
  {
   "cell_type": "markdown",
   "metadata": {},
   "source": [
    "Вам нужно защитить данные клиентов страховой компании «Хоть потоп». Разработайте такой метод преобразования данных, чтобы по ним было сложно восстановить персональную информацию. Обоснуйте корректность его работы.\n",
    "\n",
    "Нужно защитить данные, чтобы при преобразовании качество моделей машинного обучения не ухудшилось. Подбирать наилучшую модель не требуется."
   ]
  },
  {
   "cell_type": "markdown",
   "metadata": {},
   "source": [
    "## 1. Загрузка данных"
   ]
  },
  {
   "cell_type": "code",
   "execution_count": 6,
   "metadata": {},
   "outputs": [],
   "source": [
    "import pandas as pd\n",
    "import numpy as np\n",
    "from sklearn.metrics import r2_score"
   ]
  },
  {
   "cell_type": "code",
   "execution_count": 7,
   "metadata": {},
   "outputs": [
    {
     "name": "stdout",
     "output_type": "stream",
     "text": [
      "<class 'pandas.core.frame.DataFrame'>\n",
      "RangeIndex: 5000 entries, 0 to 4999\n",
      "Data columns (total 5 columns):\n",
      "Пол                  5000 non-null int64\n",
      "Возраст              5000 non-null float64\n",
      "Зарплата             5000 non-null float64\n",
      "Члены семьи          5000 non-null int64\n",
      "Страховые выплаты    5000 non-null int64\n",
      "dtypes: float64(2), int64(3)\n",
      "memory usage: 195.4 KB\n",
      "None\n"
     ]
    },
    {
     "data": {
      "text/html": [
       "<div>\n",
       "<style scoped>\n",
       "    .dataframe tbody tr th:only-of-type {\n",
       "        vertical-align: middle;\n",
       "    }\n",
       "\n",
       "    .dataframe tbody tr th {\n",
       "        vertical-align: top;\n",
       "    }\n",
       "\n",
       "    .dataframe thead th {\n",
       "        text-align: right;\n",
       "    }\n",
       "</style>\n",
       "<table border=\"1\" class=\"dataframe\">\n",
       "  <thead>\n",
       "    <tr style=\"text-align: right;\">\n",
       "      <th></th>\n",
       "      <th>Пол</th>\n",
       "      <th>Возраст</th>\n",
       "      <th>Зарплата</th>\n",
       "      <th>Члены семьи</th>\n",
       "      <th>Страховые выплаты</th>\n",
       "    </tr>\n",
       "  </thead>\n",
       "  <tbody>\n",
       "    <tr>\n",
       "      <td>0</td>\n",
       "      <td>1</td>\n",
       "      <td>41.0</td>\n",
       "      <td>49600.0</td>\n",
       "      <td>1</td>\n",
       "      <td>0</td>\n",
       "    </tr>\n",
       "    <tr>\n",
       "      <td>1</td>\n",
       "      <td>0</td>\n",
       "      <td>46.0</td>\n",
       "      <td>38000.0</td>\n",
       "      <td>1</td>\n",
       "      <td>1</td>\n",
       "    </tr>\n",
       "    <tr>\n",
       "      <td>2</td>\n",
       "      <td>0</td>\n",
       "      <td>29.0</td>\n",
       "      <td>21000.0</td>\n",
       "      <td>0</td>\n",
       "      <td>0</td>\n",
       "    </tr>\n",
       "    <tr>\n",
       "      <td>3</td>\n",
       "      <td>0</td>\n",
       "      <td>21.0</td>\n",
       "      <td>41700.0</td>\n",
       "      <td>2</td>\n",
       "      <td>0</td>\n",
       "    </tr>\n",
       "    <tr>\n",
       "      <td>4</td>\n",
       "      <td>1</td>\n",
       "      <td>28.0</td>\n",
       "      <td>26100.0</td>\n",
       "      <td>0</td>\n",
       "      <td>0</td>\n",
       "    </tr>\n",
       "  </tbody>\n",
       "</table>\n",
       "</div>"
      ],
      "text/plain": [
       "   Пол  Возраст  Зарплата  Члены семьи  Страховые выплаты\n",
       "0    1     41.0   49600.0            1                  0\n",
       "1    0     46.0   38000.0            1                  1\n",
       "2    0     29.0   21000.0            0                  0\n",
       "3    0     21.0   41700.0            2                  0\n",
       "4    1     28.0   26100.0            0                  0"
      ]
     },
     "execution_count": 7,
     "metadata": {},
     "output_type": "execute_result"
    }
   ],
   "source": [
    "data = pd.read_csv('/datasets/insurance.csv')\n",
    "print(data.info())\n",
    "data.head()"
   ]
  },
  {
   "cell_type": "markdown",
   "metadata": {},
   "source": [
    "## 2. Умножение матриц"
   ]
  },
  {
   "cell_type": "markdown",
   "metadata": {},
   "source": [
    "В этом задании вы можете записывать формулы в *Jupyter Notebook.*\n",
    "\n",
    "Чтобы записать формулу внутри текста, окружите её символами доллара \\\\$; если снаружи —  двойными символами \\\\$\\\\$. Эти формулы записываются на языке вёрстки *LaTeX.* \n",
    "\n",
    "Для примера мы записали формулы линейной регрессии. Можете их скопировать и отредактировать, чтобы решить задачу.\n",
    "\n",
    "Работать в *LaTeX* необязательно."
   ]
  },
  {
   "cell_type": "markdown",
   "metadata": {},
   "source": [
    "Обозначения:\n",
    "\n",
    "- $X$ — матрица признаков (нулевой столбец состоит из единиц)\n",
    "\n",
    "- $y$ — вектор целевого признака\n",
    "\n",
    "- $P$ — матрица, на которую умножаются признаки\n",
    "\n",
    "- $w$ — вектор весов линейной регрессии (нулевой элемент равен сдвигу)"
   ]
  },
  {
   "cell_type": "markdown",
   "metadata": {},
   "source": [
    "Предсказания:\n",
    "\n",
    "$$\n",
    "a = Xw\n",
    "$$\n",
    "\n",
    "Задача обучения:\n",
    "\n",
    "$$\n",
    "w = \\arg\\min_w MSE(Xw, y)\n",
    "$$\n",
    "\n",
    "Формула обучения:\n",
    "\n",
    "$$\n",
    "w = (X^T X)^{-1} X^T y\n",
    "$$"
   ]
  },
  {
   "cell_type": "markdown",
   "metadata": {},
   "source": [
    "### Вопрос: признаки умножают на обратимую матрицу. Изменится ли качество линейной регрессии? (Её можно обучить заново.)"
   ]
  },
  {
   "cell_type": "markdown",
   "metadata": {},
   "source": [
    "**Ответ:** Не изменится"
   ]
  },
  {
   "cell_type": "markdown",
   "metadata": {},
   "source": [
    "**Обоснование:**\n",
    "\n",
    "Введем следующие обозначения:\n",
    "\n",
    "$X_p = X P$ - матрица признаков после \"шифрования\", вектор целевого признака $y$ шифровать не будем.\n",
    "\n",
    "Используя следующие свойства операций с матрицами:\n",
    "\n",
    "$$(A B)^T = B^T A^T$$\n",
    "\n",
    "$$(A B)^{-1} = B^{-1} A^{-1}$$\n",
    "\n",
    "$$(A^T)^{-1} = (A^{-1})^T$$\n",
    "\n",
    "а также формулу обучения, получаем следующую формулу предсказания для зашифрованных данных:\n",
    "\n",
    "$$a_p = X_p w_p = X_p (X_p^T X_p)^{-1} X_p^T y =$$\n",
    "\n",
    "$$= (X P)\\,((X P)^T X P)^{-1} (X P)^T y =$$\n",
    "\n",
    "$$= (X P)\\,(P^T (X^T X) P)^{-1} P^T X^T y =$$\n",
    "\n",
    "$$= (X P)\\,P^{-1} (X^T X)^{-1} (P^T)^{-1} P^T X^T y =$$\n",
    "\n",
    "$$= X (P P^{-1}) (X^T X)^{-1} (P P^{-1})^T X^T y =$$\n",
    "\n",
    "$$= X (X^T X)^{-1} X^T y =$$\n",
    "\n",
    "$$= X w =$$\n",
    "\n",
    "$$= a$$\n",
    "\n",
    "Получили $a_p = a$\n",
    "\n",
    "**Вывод: при шифровании признаков $X$ обратимой матрицей $P$ предсказания $a$ не меняются.**"
   ]
  },
  {
   "cell_type": "markdown",
   "metadata": {},
   "source": [
    "Как связаны параметры $w$ и $w_p$:\n",
    "\n",
    "выше мы получили соотношение $X_p w_p = X w$. Средовательно:\n",
    "\n",
    "$$X P\\,w_p = X w$$\n",
    "\n",
    "$$w = P\\,w_p$$\n",
    "\n",
    "или\n",
    "\n",
    "$$w_p = P^{-1} w$$"
   ]
  },
  {
   "cell_type": "markdown",
   "metadata": {},
   "source": [
    "## 3. Алгоритм преобразования"
   ]
  },
  {
   "cell_type": "markdown",
   "metadata": {},
   "source": [
    "Описал в п.2"
   ]
  },
  {
   "cell_type": "markdown",
   "metadata": {},
   "source": [
    "Исходная матрица признаков $X$ преобразуется (\"шифруется\") следующим образом: матрица умножается на произвольную обратимую матрицу $P$: \n",
    "\n",
    "$$X_p = X P$$\n",
    "\n",
    "Для обратного преобразования (получения матрицы $X$) необходимо умножить матрицу $X_p$ на $P^{-1}$: \n",
    "\n",
    "$$X_p P^{-1} = X P P^{-1} = X E = X$$"
   ]
  },
  {
   "cell_type": "markdown",
   "metadata": {},
   "source": [
    "## 4. Проверка алгоритма"
   ]
  },
  {
   "cell_type": "code",
   "execution_count": 8,
   "metadata": {},
   "outputs": [],
   "source": [
    "# Введем свой класс \n",
    "# Обращаю внимание, что для удобства на вход должны подавать матрицы и вектора\n",
    "\n",
    "class LinearRegression:\n",
    "    def fit(self, X, y):\n",
    "        X1 = np.concatenate((np.ones((X.shape[0], 1)), X), axis=1)\n",
    "        w = np.linalg.inv(X1.T @ X1) @ X1.T @ y\n",
    "        self.w = w[1:]\n",
    "        self.w0 = w[0]\n",
    "        \n",
    "    def predict(self, X):\n",
    "        return X @ self.w + self.w0"
   ]
  },
  {
   "cell_type": "code",
   "execution_count": 9,
   "metadata": {},
   "outputs": [],
   "source": [
    "x_train = data.drop('Страховые выплаты', axis=1)\n",
    "y_train = data['Страховые выплаты']"
   ]
  },
  {
   "cell_type": "code",
   "execution_count": 11,
   "metadata": {},
   "outputs": [],
   "source": [
    "model1 = LinearRegression()\n",
    "model1.fit(x_train.values, y_train.values)\n",
    "pred1 = model1.predict(x_train.values)"
   ]
  },
  {
   "cell_type": "code",
   "execution_count": 16,
   "metadata": {},
   "outputs": [
    {
     "name": "stdout",
     "output_type": "stream",
     "text": [
      "[[0.92961609 0.31637555 0.18391881 0.20456028]\n",
      " [0.56772503 0.5955447  0.96451452 0.6531771 ]\n",
      " [0.74890664 0.65356987 0.74771481 0.96130674]\n",
      " [0.0083883  0.10644438 0.29870371 0.65641118]]\n",
      "Матрица обратима\n"
     ]
    }
   ],
   "source": [
    "# Сгенерируем произвольную обратимую матрицу нужных размеров\n",
    "# Используем равномерное распределение\n",
    "state = np.random.RandomState(12345)\n",
    "P = state.uniform(0, 1, (x_train.shape[1], x_train.shape[1]))\n",
    "print(P)\n",
    "\n",
    "try:\n",
    "    np.linalg.inv(P)\n",
    "    print('Матрица обратима')\n",
    "except:\n",
    "    print('Матрица необратима!')"
   ]
  },
  {
   "cell_type": "code",
   "execution_count": 84,
   "metadata": {},
   "outputs": [],
   "source": [
    "# И строим новую модель, используя для обучения XP\n",
    "model2 = LinearRegression()\n",
    "XP = x_train.values @ P\n",
    "model2.fit(XP, y_train.values)\n",
    "pred2 = model2.predict(XP)"
   ]
  },
  {
   "cell_type": "code",
   "execution_count": 85,
   "metadata": {},
   "outputs": [
    {
     "name": "stdout",
     "output_type": "stream",
     "text": [
      "[ 0.51172715  0.68431581  0.09373365 -0.22258878  0.06508374  0.57103879\n",
      "  0.42842668 -0.09843783  0.33316862  0.18999524 -0.05739468  0.42162253\n",
      " -0.16436565 -0.19771553  0.46909652  0.2798098  -0.03734603  0.50094881\n",
      "  0.56098611  0.02753857]\n",
      "[ 0.51172025  0.6843275   0.09373945 -0.22257042  0.06506908  0.57103325\n",
      "  0.4284212  -0.09843524  0.33316219  0.18998964 -0.05740312  0.4216077\n",
      " -0.16434446 -0.19770115  0.46911008  0.27979394 -0.0373482   0.50094165\n",
      "  0.56097561  0.02752649]\n"
     ]
    }
   ],
   "source": [
    "print(pred1[0:20])\n",
    "print(pred2[0:20])"
   ]
  },
  {
   "cell_type": "markdown",
   "metadata": {},
   "source": [
    "Даже на глазок видно, что предсказанные значения у исходной модели и модели с шифрованием идентичны. Различия в 5-ых, 6-ых знаках после запятой связываю с округлением."
   ]
  },
  {
   "cell_type": "code",
   "execution_count": 86,
   "metadata": {},
   "outputs": [
    {
     "name": "stdout",
     "output_type": "stream",
     "text": [
      "Метрика R2 для обычной модели:  0.4249455028666801\n",
      "Метрика R2 для модели c шифрованием:  0.4249455021696207\n"
     ]
    }
   ],
   "source": [
    "print('Метрика R2 для обычной модели: ', r2_score(y_train, pred1))\n",
    "print('Метрика R2 для модели c шифрованием: ', r2_score(y_train, pred2))"
   ]
  },
  {
   "cell_type": "markdown",
   "metadata": {},
   "source": [
    "Метрики R2 практически идентичны."
   ]
  }
 ],
 "metadata": {
  "kernelspec": {
   "display_name": "Python 3",
   "language": "python",
   "name": "python3"
  },
  "language_info": {
   "codemirror_mode": {
    "name": "ipython",
    "version": 3
   },
   "file_extension": ".py",
   "mimetype": "text/x-python",
   "name": "python",
   "nbconvert_exporter": "python",
   "pygments_lexer": "ipython3",
   "version": "3.7.4"
  }
 },
 "nbformat": 4,
 "nbformat_minor": 2
}
