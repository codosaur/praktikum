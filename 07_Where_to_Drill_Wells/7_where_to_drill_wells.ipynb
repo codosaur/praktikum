{
 "cells": [
  {
   "cell_type": "markdown",
   "metadata": {},
   "source": [
    "# Описание проекта"
   ]
  },
  {
   "cell_type": "markdown",
   "metadata": {},
   "source": [
    "Допустим, вы работаете в добывающей компании «ГлавРосГосНефть». Нужно решить, где бурить новую скважину.\n",
    "\n",
    "Вам предоставлены пробы нефти в трёх регионах: в каждом 10 000 месторождений, где измерили качество нефти и объём её запасов. Постройте модель машинного обучения, которая поможет определить регион, где добыча принесёт наибольшую прибыль. Проанализируйте возможную прибыль и риски техникой *Bootstrap.*\n",
    "\n",
    "Шаги для выбора локации:\n",
    "\n",
    "- В избранном регионе ищут месторождения, для каждого определяют значения признаков;\n",
    "- Строят модель и оценивают объём запасов;\n",
    "- Выбирают месторождения с самым высокими оценками значений. Количество месторождений зависит от бюджета компании и стоимости разработки одной скважины;\n",
    "- Прибыль равна суммарной прибыли отобранных месторождений."
   ]
  },
  {
   "cell_type": "markdown",
   "metadata": {},
   "source": [
    "# 1. Загрузка и подготовка данных"
   ]
  },
  {
   "cell_type": "code",
   "execution_count": 1,
   "metadata": {},
   "outputs": [],
   "source": [
    "# Отключим предупреждения\n",
    "import warnings\n",
    "warnings.filterwarnings('ignore')"
   ]
  },
  {
   "cell_type": "code",
   "execution_count": 2,
   "metadata": {},
   "outputs": [],
   "source": [
    "import pandas as pd\n",
    "from sklearn.preprocessing import StandardScaler\n",
    "from sklearn.model_selection import train_test_split\n",
    "from sklearn.linear_model import LinearRegression\n",
    "from sklearn.metrics import mean_squared_error\n",
    "from numpy.random import RandomState"
   ]
  },
  {
   "cell_type": "code",
   "execution_count": 3,
   "metadata": {},
   "outputs": [],
   "source": [
    "MY_RANDOM_STATE = 12345"
   ]
  },
  {
   "cell_type": "code",
   "execution_count": 4,
   "metadata": {},
   "outputs": [
    {
     "name": "stdout",
     "output_type": "stream",
     "text": [
      "<class 'pandas.core.frame.DataFrame'>\n",
      "RangeIndex: 100000 entries, 0 to 99999\n",
      "Data columns (total 5 columns):\n",
      "id         100000 non-null object\n",
      "f0         100000 non-null float64\n",
      "f1         100000 non-null float64\n",
      "f2         100000 non-null float64\n",
      "product    100000 non-null float64\n",
      "dtypes: float64(4), object(1)\n",
      "memory usage: 3.8+ MB\n",
      "None\n",
      "<class 'pandas.core.frame.DataFrame'>\n",
      "RangeIndex: 100000 entries, 0 to 99999\n",
      "Data columns (total 5 columns):\n",
      "id         100000 non-null object\n",
      "f0         100000 non-null float64\n",
      "f1         100000 non-null float64\n",
      "f2         100000 non-null float64\n",
      "product    100000 non-null float64\n",
      "dtypes: float64(4), object(1)\n",
      "memory usage: 3.8+ MB\n",
      "None\n",
      "<class 'pandas.core.frame.DataFrame'>\n",
      "RangeIndex: 100000 entries, 0 to 99999\n",
      "Data columns (total 5 columns):\n",
      "id         100000 non-null object\n",
      "f0         100000 non-null float64\n",
      "f1         100000 non-null float64\n",
      "f2         100000 non-null float64\n",
      "product    100000 non-null float64\n",
      "dtypes: float64(4), object(1)\n",
      "memory usage: 3.8+ MB\n",
      "None\n"
     ]
    }
   ],
   "source": [
    "#data1 = pd.read_csv('geo_data_0.csv')\n",
    "#data2 = pd.read_csv('geo_data_1.csv')\n",
    "#data3 = pd.read_csv('geo_data_2.csv')\n",
    "data1 = pd.read_csv('/datasets/geo_data_0.csv')\n",
    "data2 = pd.read_csv('/datasets/geo_data_1.csv')\n",
    "data3 = pd.read_csv('/datasets/geo_data_2.csv')\n",
    "print(data1.info())\n",
    "print(data2.info())\n",
    "print(data3.info())"
   ]
  },
  {
   "cell_type": "code",
   "execution_count": 5,
   "metadata": {},
   "outputs": [
    {
     "data": {
      "text/html": [
       "<div>\n",
       "<style scoped>\n",
       "    .dataframe tbody tr th:only-of-type {\n",
       "        vertical-align: middle;\n",
       "    }\n",
       "\n",
       "    .dataframe tbody tr th {\n",
       "        vertical-align: top;\n",
       "    }\n",
       "\n",
       "    .dataframe thead th {\n",
       "        text-align: right;\n",
       "    }\n",
       "</style>\n",
       "<table border=\"1\" class=\"dataframe\">\n",
       "  <thead>\n",
       "    <tr style=\"text-align: right;\">\n",
       "      <th></th>\n",
       "      <th>id</th>\n",
       "      <th>f0</th>\n",
       "      <th>f1</th>\n",
       "      <th>f2</th>\n",
       "      <th>product</th>\n",
       "    </tr>\n",
       "  </thead>\n",
       "  <tbody>\n",
       "    <tr>\n",
       "      <td>0</td>\n",
       "      <td>txEyH</td>\n",
       "      <td>0.705745</td>\n",
       "      <td>-0.497823</td>\n",
       "      <td>1.221170</td>\n",
       "      <td>105.280062</td>\n",
       "    </tr>\n",
       "    <tr>\n",
       "      <td>1</td>\n",
       "      <td>2acmU</td>\n",
       "      <td>1.334711</td>\n",
       "      <td>-0.340164</td>\n",
       "      <td>4.365080</td>\n",
       "      <td>73.037750</td>\n",
       "    </tr>\n",
       "    <tr>\n",
       "      <td>2</td>\n",
       "      <td>409Wp</td>\n",
       "      <td>1.022732</td>\n",
       "      <td>0.151990</td>\n",
       "      <td>1.419926</td>\n",
       "      <td>85.265647</td>\n",
       "    </tr>\n",
       "    <tr>\n",
       "      <td>3</td>\n",
       "      <td>iJLyR</td>\n",
       "      <td>-0.032172</td>\n",
       "      <td>0.139033</td>\n",
       "      <td>2.978566</td>\n",
       "      <td>168.620776</td>\n",
       "    </tr>\n",
       "    <tr>\n",
       "      <td>4</td>\n",
       "      <td>Xdl7t</td>\n",
       "      <td>1.988431</td>\n",
       "      <td>0.155413</td>\n",
       "      <td>4.751769</td>\n",
       "      <td>154.036647</td>\n",
       "    </tr>\n",
       "  </tbody>\n",
       "</table>\n",
       "</div>"
      ],
      "text/plain": [
       "      id        f0        f1        f2     product\n",
       "0  txEyH  0.705745 -0.497823  1.221170  105.280062\n",
       "1  2acmU  1.334711 -0.340164  4.365080   73.037750\n",
       "2  409Wp  1.022732  0.151990  1.419926   85.265647\n",
       "3  iJLyR -0.032172  0.139033  2.978566  168.620776\n",
       "4  Xdl7t  1.988431  0.155413  4.751769  154.036647"
      ]
     },
     "execution_count": 5,
     "metadata": {},
     "output_type": "execute_result"
    }
   ],
   "source": [
    "data1.head()"
   ]
  },
  {
   "cell_type": "code",
   "execution_count": 6,
   "metadata": {},
   "outputs": [],
   "source": [
    "# В дальнейшем для работы модели признак id нам не важен. Удалим его из наборов данных.\n",
    "data1 = data1.drop('id', axis=1)\n",
    "data2 = data2.drop('id', axis=1)\n",
    "data3 = data3.drop('id', axis=1)"
   ]
  },
  {
   "cell_type": "markdown",
   "metadata": {},
   "source": [
    "# 2. Обучение и проверка модели"
   ]
  },
  {
   "cell_type": "markdown",
   "metadata": {},
   "source": [
    "### Для каждого региона (данных dataN) необходимо:\n",
    "* разбить данные на обучающую и валидационную выборки в соотношении 75:25\n",
    "* обучить модель и сделать предсказания на валидационной выборке\n"
   ]
  },
  {
   "cell_type": "code",
   "execution_count": 7,
   "metadata": {},
   "outputs": [],
   "source": [
    "# Подготовимся к масштабированию\n",
    "numeric = ['f0', 'f1', 'f2']\n",
    "scaler = StandardScaler()\n",
    "\n",
    "# Процедура делит данные на трейн и вэлид, обучает модель и делает предсказания\n",
    "# Возвращает правильные ответы и предсказания\n",
    "def process_data(data):\n",
    "#     Делим данные\n",
    "    x_data = data.drop('product', axis=1)\n",
    "    y_data = data['product']\n",
    "    x_train, x_valid, y_train, y_valid = train_test_split(x_data, y_data, test_size=0.25, random_state=MY_RANDOM_STATE)\n",
    "    \n",
    "#     Масштабируем числовые признаки\n",
    "    scaler.fit(x_train[numeric])\n",
    "    x_train[numeric] = scaler.transform(x_train[numeric])\n",
    "    x_valid[numeric] = scaler.transform(x_valid[numeric])\n",
    "\n",
    "#     Модель делает предсказания\n",
    "    model = LinearRegression()\n",
    "    model.fit(x_train, y_train)\n",
    "    y_pred = model.predict(x_valid)\n",
    "    \n",
    "# Для дальнейшей работы необходимо, чтобы обе переменные (y_valid, y_pred) \n",
    "# были типа Series причем с одинаковыми индексами (от 0 до 24999)\n",
    "    y_valid = pd.Series(y_valid.to_list())\n",
    "    y_pred = pd.Series(y_pred)\n",
    "\n",
    "    return y_valid, y_pred"
   ]
  },
  {
   "cell_type": "markdown",
   "metadata": {},
   "source": [
    "### Для каждого месторождения применим написанную функцию, отдельно сохраним предсказания и правильные ответы, напечатаем средний запас сырья и RMSE модели"
   ]
  },
  {
   "cell_type": "code",
   "execution_count": 8,
   "metadata": {},
   "outputs": [
    {
     "name": "stdout",
     "output_type": "stream",
     "text": [
      "Регион 1:\n",
      "mean: 92.07859674082927\n",
      "rmse: 37.5794217150813\n",
      "Регион 2:\n",
      "mean: 68.72313602435997\n",
      "rmse: 0.8930992867756158\n",
      "Регион 3:\n",
      "mean: 94.88423280885438\n",
      "rmse: 40.02970873393434\n"
     ]
    }
   ],
   "source": [
    "print('Регион 1:')\n",
    "y_valid1, y_pred1 = process_data(data1)\n",
    "print('mean:', y_valid1.mean())\n",
    "print('rmse:', mean_squared_error(y_valid1, y_pred1) ** 0.5)\n",
    "\n",
    "print('Регион 2:')\n",
    "y_valid2, y_pred2 = process_data(data2)\n",
    "print('mean:', y_valid2.mean())\n",
    "print('rmse:', mean_squared_error(y_valid2, y_pred2) ** 0.5)\n",
    "\n",
    "print('Регион 3:')\n",
    "y_valid3, y_pred3 = process_data(data3)\n",
    "print('mean:', y_valid3.mean())\n",
    "print('rmse:', mean_squared_error(y_valid3, y_pred3) ** 0.5)"
   ]
  },
  {
   "cell_type": "markdown",
   "metadata": {},
   "source": [
    "### Вывод"
   ]
  },
  {
   "cell_type": "markdown",
   "metadata": {},
   "source": [
    "1. В среднем в регионе 3 месторождения самые богатые нефтью (94,88 тыс. бар.)\n",
    "2. В регионе 2 метрика RMSE близка к нулю (всего 0,89). То есть модель очень хорошо предсказывает залежи нефти по 2 региону."
   ]
  },
  {
   "cell_type": "markdown",
   "metadata": {},
   "source": [
    "# 3. Подготовка к расчёту прибыли"
   ]
  },
  {
   "cell_type": "markdown",
   "metadata": {},
   "source": [
    "### 3.1. Сохраните в коде все ключевые значения для расчётов."
   ]
  },
  {
   "cell_type": "code",
   "execution_count": 9,
   "metadata": {},
   "outputs": [
    {
     "name": "stdout",
     "output_type": "stream",
     "text": [
      "200\n"
     ]
    }
   ],
   "source": [
    "# бюджет на разработку месторождений — 10 млрд рублей\n",
    "DEV_BUDGET = 10 * 10**9\n",
    "\n",
    "# стоимость бурения одной скважины — 50 млн рублей\n",
    "DRILLING_COST = 50 * 10**6\n",
    "\n",
    "# один баррель сырья приносит 4500 рублей прибыли\n",
    "PROFIT_PER_BARREL = 4500\n",
    "\n",
    "# При разведке региона проводится исследование 500 точек\n",
    "POINTS_TO_EXPLORE = 500\n",
    "\n",
    "# Дополнительно посчитаем на бурение скольких точек в принципе хватает выделенного бюджета\n",
    "POINTS_TO_DRILL = DEV_BUDGET // DRILLING_COST\n",
    "print(POINTS_TO_DRILL)"
   ]
  },
  {
   "cell_type": "markdown",
   "metadata": {},
   "source": [
    "### 3.2. Посчитайте минимальный средний объём сырья в месторождениях региона, достаточный для его разработки. Напишите выводы."
   ]
  },
  {
   "cell_type": "code",
   "execution_count": 10,
   "metadata": {},
   "outputs": [
    {
     "name": "stdout",
     "output_type": "stream",
     "text": [
      "Минимальный объем сырья достаточный для разработки:\n",
      "11111.111111111111\n"
     ]
    }
   ],
   "source": [
    "print('Минимальный объем сырья достаточный для разработки:')\n",
    "print(DRILLING_COST / PROFIT_PER_BARREL)"
   ]
  },
  {
   "cell_type": "markdown",
   "metadata": {},
   "source": [
    "Во всех регионах средних объем сырья в месторождениях больше чем минимально необходимый."
   ]
  },
  {
   "cell_type": "markdown",
   "metadata": {},
   "source": [
    "### 3.3. Напишите функцию для расчёта прибыли по набору отобранных месторождений и предсказаний модели."
   ]
  },
  {
   "cell_type": "code",
   "execution_count": 11,
   "metadata": {},
   "outputs": [],
   "source": [
    "# Для удобства прибыль будем считать в миллионах рублей\n",
    "def get_revenue(y_sample):\n",
    "    result = (y_sample.sum() * PROFIT_PER_BARREL * 1000 - DEV_BUDGET) / 10**6\n",
    "    return result"
   ]
  },
  {
   "cell_type": "markdown",
   "metadata": {},
   "source": [
    "# 4. Расчёт прибыли и рисков "
   ]
  },
  {
   "cell_type": "markdown",
   "metadata": {},
   "source": [
    "### 4.1. Примените технику Bootstrap с 1000 выборок, чтобы найти распределение прибыли."
   ]
  },
  {
   "cell_type": "markdown",
   "metadata": {},
   "source": [
    "Для каждого региона мы 1000 раз сделаем следующее:\n",
    "* получим случайную выборку из 500 точек (по условию \"при разведке региона проводится исследование 500 точек\")\n",
    "* по полученной ранее модели предскажем объем запасов в каждом из месторождений\n",
    "* выберем 200 местрождений с максимальным объемом запасов\n",
    "* рассчитаем суммарную прибыль исходя из выборки с помощью написанной ранее функции"
   ]
  },
  {
   "cell_type": "code",
   "execution_count": 12,
   "metadata": {},
   "outputs": [],
   "source": [
    "state = RandomState(MY_RANDOM_STATE)\n",
    "\n",
    "def get_profit_sample(y_valid, y_pred):\n",
    "    result = []\n",
    "    for i in range(1000):\n",
    "        y_pred_sample = y_pred.sample(n=POINTS_TO_EXPLORE, replace=True, random_state=state).sort_values(ascending=False)\n",
    "        y_valid_sample = y_valid[y_pred_sample.index][:POINTS_TO_DRILL]\n",
    "        revenue = get_revenue(y_valid_sample)\n",
    "        result.append(revenue)\n",
    "    return pd.Series(result)"
   ]
  },
  {
   "cell_type": "markdown",
   "metadata": {},
   "source": [
    "### 4.2. Найдите среднюю прибыль, 95%-й доверительный интервал и риск убытков."
   ]
  },
  {
   "cell_type": "code",
   "execution_count": 13,
   "metadata": {},
   "outputs": [],
   "source": [
    "# Напишем функцию для получения всех необходимых показателей:\n",
    "# средняя прибыль\n",
    "# границы 95% доверительного интервала\n",
    "# риск убытков (т.е. долю месторождений с отрицательной прибылью)\n",
    "def squeeze_indicators(profit_sample):\n",
    "    mean_profit = profit_sample.mean()\n",
    "    lower_endpoint = profit_sample.quantile(q=0.025)\n",
    "    upper_endpoint = profit_sample.quantile(q=0.975)\n",
    "    loss_prob = profit_sample[profit_sample < 0].count() / len(profit_sample)\n",
    "    return mean_profit, lower_endpoint, upper_endpoint, loss_prob"
   ]
  },
  {
   "cell_type": "code",
   "execution_count": 14,
   "metadata": {},
   "outputs": [],
   "source": [
    "profit_sample1 = get_profit_sample(y_valid1, y_pred1)\n",
    "mean_profit1, lower_endpoint1, upper_endpoint1, loss_prob1 = squeeze_indicators(profit_sample1)\n",
    "\n",
    "profit_sample2 = get_profit_sample(y_valid2, y_pred2)\n",
    "mean_profit2, lower_endpoint2, upper_endpoint2, loss_prob2 = squeeze_indicators(profit_sample2)\n",
    "\n",
    "profit_sample3 = get_profit_sample(y_valid3, y_pred3)\n",
    "mean_profit3, lower_endpoint3, upper_endpoint3, loss_prob3 = squeeze_indicators(profit_sample3)"
   ]
  },
  {
   "cell_type": "code",
   "execution_count": 15,
   "metadata": {},
   "outputs": [
    {
     "name": "stdout",
     "output_type": "stream",
     "text": [
      "|Регион         |Сред.прибыль   |Ниж.гран.ДИ    |Верх.гран.ДИ   |Риск убытков   |\n",
      "|1              |       93961.65|       88887.84|       99097.67|            0.0|\n",
      "|2              |       94611.56|       90780.51|       98629.52|            0.0|\n",
      "|3              |       93929.50|       88877.72|       99345.63|            0.0|\n"
     ]
    }
   ],
   "source": [
    "print('|{:<15}|{:<15}|{:<15}|{:<15}|{:<15}|'.format('Регион', 'Сред.прибыль', 'Ниж.гран.ДИ', 'Верх.гран.ДИ', 'Риск убытков'))\n",
    "print('|{:<15}|{:>15.2f}|{:>15.2f}|{:>15.2f}|{:>15}|'.format('1', mean_profit1, lower_endpoint1, upper_endpoint1, loss_prob1))\n",
    "print('|{:<15}|{:>15.2f}|{:>15.2f}|{:>15.2f}|{:>15}|'.format('2', mean_profit2, lower_endpoint2, upper_endpoint2, loss_prob2))\n",
    "print('|{:<15}|{:>15.2f}|{:>15.2f}|{:>15.2f}|{:>15}|'.format('3', mean_profit3, lower_endpoint3, upper_endpoint3, loss_prob3))"
   ]
  },
  {
   "cell_type": "markdown",
   "metadata": {},
   "source": [
    "### Вывод: ориентируясь на показатели средней прибыль рекомендую руководству компании начать работу в регионе 2"
   ]
  }
 ],
 "metadata": {
  "kernelspec": {
   "display_name": "Python 3",
   "language": "python",
   "name": "python3"
  },
  "language_info": {
   "codemirror_mode": {
    "name": "ipython",
    "version": 3
   },
   "file_extension": ".py",
   "mimetype": "text/x-python",
   "name": "python",
   "nbconvert_exporter": "python",
   "pygments_lexer": "ipython3",
   "version": "3.7.4"
  }
 },
 "nbformat": 4,
 "nbformat_minor": 2
}
