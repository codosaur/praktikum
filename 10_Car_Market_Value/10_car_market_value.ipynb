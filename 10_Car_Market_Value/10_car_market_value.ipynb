{
 "cells": [
  {
   "cell_type": "markdown",
   "metadata": {},
   "source": [
    "Сервис по продаже автомобилей с пробегом «Не бит, не крашен» разрабатывает приложение для привлечения новых клиентов. В нём можно быстро узнать рыночную стоимость своего автомобиля. В вашем распоряжении исторические данные: технические характеристики, комплектации и цены автомобилей. Вам нужно построить модель для определения стоимости. \n",
    "\n",
    "Заказчику важны:\n",
    "\n",
    "- качество предсказания;\n",
    "- скорость предсказания;\n",
    "- время обучения."
   ]
  },
  {
   "cell_type": "markdown",
   "metadata": {},
   "source": [
    "# 1. Подготовка данных"
   ]
  },
  {
   "cell_type": "code",
   "execution_count": 27,
   "metadata": {},
   "outputs": [],
   "source": [
    "import warnings\n",
    "warnings.filterwarnings('ignore')"
   ]
  },
  {
   "cell_type": "code",
   "execution_count": 28,
   "metadata": {},
   "outputs": [],
   "source": [
    "import pandas as pd\n",
    "import numpy as np\n",
    "\n",
    "from sklearn.model_selection import train_test_split\n",
    "from sklearn.metrics import mean_squared_error\n",
    "from catboost import CatBoostRegressor\n",
    "from lightgbm import LGBMRegressor"
   ]
  },
  {
   "cell_type": "code",
   "execution_count": 29,
   "metadata": {},
   "outputs": [],
   "source": [
    "RANDOM_STATE = 12345"
   ]
  },
  {
   "cell_type": "code",
   "execution_count": 30,
   "metadata": {},
   "outputs": [
    {
     "name": "stdout",
     "output_type": "stream",
     "text": [
      "<class 'pandas.core.frame.DataFrame'>\n",
      "RangeIndex: 354369 entries, 0 to 354368\n",
      "Data columns (total 16 columns):\n",
      "DateCrawled          354369 non-null object\n",
      "Price                354369 non-null int64\n",
      "VehicleType          316879 non-null object\n",
      "RegistrationYear     354369 non-null int64\n",
      "Gearbox              334536 non-null object\n",
      "Power                354369 non-null int64\n",
      "Model                334664 non-null object\n",
      "Kilometer            354369 non-null int64\n",
      "RegistrationMonth    354369 non-null int64\n",
      "FuelType             321474 non-null object\n",
      "Brand                354369 non-null object\n",
      "NotRepaired          283215 non-null object\n",
      "DateCreated          354369 non-null object\n",
      "NumberOfPictures     354369 non-null int64\n",
      "PostalCode           354369 non-null int64\n",
      "LastSeen             354369 non-null object\n",
      "dtypes: int64(7), object(9)\n",
      "memory usage: 43.3+ MB\n",
      "None\n"
     ]
    }
   ],
   "source": [
    "data = pd.read_csv('autos.csv')\n",
    "print(data.info())"
   ]
  },
  {
   "cell_type": "markdown",
   "metadata": {},
   "source": [
    "## В данных есть пропуски, проверим столбцы на тип и возможность заполнения пропусков"
   ]
  },
  {
   "cell_type": "code",
   "execution_count": 31,
   "metadata": {},
   "outputs": [],
   "source": [
    "# Процедура, которая подскажет сколько пропусков в столбце.\n",
    "# Будем использовать далее\n",
    "def print_null_number(data, column):\n",
    "    print(f'{column}: пропуски в {data[column].isnull().sum()} строках')"
   ]
  },
  {
   "cell_type": "markdown",
   "metadata": {},
   "source": [
    "### Признаки `DateCrawled`, `DateCreated`, `LastSeen`"
   ]
  },
  {
   "cell_type": "code",
   "execution_count": 32,
   "metadata": {},
   "outputs": [
    {
     "name": "stdout",
     "output_type": "stream",
     "text": [
      "2016-03-24 11:52:17\n",
      "2016-03-24 00:00:00\n",
      "2016-04-07 03:16:57\n"
     ]
    }
   ],
   "source": [
    "print(data['DateCrawled'][0])\n",
    "print(data['DateCreated'][0])\n",
    "print(data['LastSeen'][0])"
   ]
  },
  {
   "cell_type": "code",
   "execution_count": 33,
   "metadata": {},
   "outputs": [],
   "source": [
    "# Приведем столбцы к типу дата\n",
    "data['DateCrawled'] = pd.to_datetime(data['DateCrawled'], format='%Y-%m-%d %H:%M:%S')\n",
    "data['DateCreated'] = pd.to_datetime(data['DateCreated'], format='%Y-%m-%d %H:%M:%S')\n",
    "data['LastSeen'] = pd.to_datetime(data['LastSeen'], format='%Y-%m-%d %H:%M:%S')"
   ]
  },
  {
   "cell_type": "markdown",
   "metadata": {},
   "source": [
    "### Признаки `VehicleType`, `Gearbox`, `FuelType`"
   ]
  },
  {
   "cell_type": "markdown",
   "metadata": {},
   "source": [
    "Логично попробовать заполнить пропущенные значения по паре Brand, Model там где это возможно.\n",
    "\n",
    "Принцип: если по паре Brand, Model можно однозначно определить значение признака (по строкам, где признак заполнен), то будем использовать это значение для заполнения пропусков."
   ]
  },
  {
   "cell_type": "code",
   "execution_count": 34,
   "metadata": {},
   "outputs": [],
   "source": [
    "# Процедура заполняет пропуски в столбце feature по значениям признаков Brand, Model\n",
    "def get_feature_by_brand_model(data, feature):\n",
    "    \n",
    "    isnull_before = data[feature].isnull().sum()\n",
    "    \n",
    "    # Отберем строки без пропусков во всех 3-х колонках\n",
    "    data_filled = data.query('Brand.notnull().values and Model.notnull().values and ' + feature + '.notnull().values')\n",
    "\n",
    "    # и получим таблицу с уникальными тройками значений колонок\n",
    "    columns = ['Brand', 'Model', feature]\n",
    "    data_filled = data_filled.loc[:, columns].drop_duplicates(columns).reset_index(drop=True)\n",
    "\n",
    "    # Среди них нас интересуют только те, у которых по паре Brand, Model можно однозначно определить feature\n",
    "    data_filled['count'] = 1\n",
    "    data_filled = data_filled.groupby(['Brand', 'Model']).agg({feature: 'max', 'count': 'count'}).reset_index()\n",
    "    data_filled.columns = ['Brand', 'Model', feature, 'count']\n",
    "\n",
    "    # Вот собственно отбор про \"однозначно определить\"\n",
    "    data_filled = data_filled.query('count == 1').reset_index(drop=True)\n",
    "    data_filled = data_filled.drop('count', axis=1)\n",
    "    \n",
    "    # Cоединим data c data_filled\n",
    "    data = data.merge(data_filled, on=['Brand', 'Model'], how='left', suffixes=('', '_filled'))\n",
    "\n",
    "    # Заполним пропуски в колонке feature данными из колонки <feature>_filled\n",
    "    data.loc[data[feature].isnull(), feature] = data[feature + '_filled']\n",
    "    data = data.drop(feature + '_filled', axis=1)\n",
    "    \n",
    "    isnull_after = data[feature].isnull().sum()\n",
    "    print(f'{feature}: удалось заполнить пропуски в {isnull_before - isnull_after} строках')\n",
    "    \n",
    "    return data"
   ]
  },
  {
   "cell_type": "code",
   "execution_count": 35,
   "metadata": {},
   "outputs": [
    {
     "name": "stdout",
     "output_type": "stream",
     "text": [
      "VehicleType: удалось заполнить пропуски в 67 строках\n",
      "[nan 'coupe' 'suv' 'small' 'sedan' 'convertible' 'bus' 'wagon' 'other']\n"
     ]
    }
   ],
   "source": [
    "# VehicleType\n",
    "data = get_feature_by_brand_model(data, 'VehicleType')\n",
    "print(data['VehicleType'].unique())"
   ]
  },
  {
   "cell_type": "code",
   "execution_count": 36,
   "metadata": {},
   "outputs": [
    {
     "name": "stdout",
     "output_type": "stream",
     "text": [
      "Gearbox: удалось заполнить пропуски в 143 строках\n",
      "['manual' 'auto' nan]\n"
     ]
    }
   ],
   "source": [
    "# Gearbox\n",
    "data = get_feature_by_brand_model(data, 'Gearbox')\n",
    "print(data['Gearbox'].unique())"
   ]
  },
  {
   "cell_type": "code",
   "execution_count": 37,
   "metadata": {},
   "outputs": [
    {
     "name": "stdout",
     "output_type": "stream",
     "text": [
      "FuelType: удалось заполнить пропуски в 158 строках\n",
      "['petrol' 'gasoline' nan 'lpg' 'other' 'hybrid' 'cng' 'electric']\n"
     ]
    }
   ],
   "source": [
    "# FuelType\n",
    "data = get_feature_by_brand_model(data, 'FuelType')\n",
    "print(data['FuelType'].unique())"
   ]
  },
  {
   "cell_type": "markdown",
   "metadata": {},
   "source": [
    "### Признак `RegistrationYear`"
   ]
  },
  {
   "cell_type": "code",
   "execution_count": 38,
   "metadata": {},
   "outputs": [
    {
     "name": "stdout",
     "output_type": "stream",
     "text": [
      "1000    37\n",
      "1001     1\n",
      "1039     1\n",
      "1111     3\n",
      "1200     1\n",
      "        ..\n",
      "9000     3\n",
      "9229     1\n",
      "9450     1\n",
      "9996     1\n",
      "9999    26\n",
      "Name: RegistrationYear, Length: 151, dtype: int64\n"
     ]
    }
   ],
   "source": [
    "print(data['RegistrationYear'].value_counts(dropna=False).sort_index())"
   ]
  },
  {
   "cell_type": "markdown",
   "metadata": {},
   "source": [
    "В данных присутствуют аномалии. Удаление аномалий предлагаю сделать исходя из следующей логики: \n",
    "* Если мы предполагаем, что пользователь ошибся при вводе года, то в столбце RegistrationYear укажем nan\n",
    "* Если в качестве года выпуска указан год до 1900 или после 2020, то произошла ошибка (меняем на nan)\n",
    "* Годы от 1900 по 1920: вероятно пользователь ошибся с веком и здесь имеется ввиду 2000-2020 годы (меняем на nan)\n",
    "* Годы от 1921 по 2020: оставляем как есть"
   ]
  },
  {
   "cell_type": "code",
   "execution_count": 39,
   "metadata": {},
   "outputs": [
    {
     "name": "stdout",
     "output_type": "stream",
     "text": [
      "RegistrationYear: пропуски в 275 строках\n"
     ]
    }
   ],
   "source": [
    "data.loc[(data['RegistrationYear'] < 1921) | (data['RegistrationYear'] > 2020), 'RegistrationYear'] = None\n",
    "print_null_number(data, 'RegistrationYear')"
   ]
  },
  {
   "cell_type": "code",
   "execution_count": 40,
   "metadata": {},
   "outputs": [
    {
     "name": "stdout",
     "output_type": "stream",
     "text": [
      "[[<matplotlib.axes._subplots.AxesSubplot object at 0x00000037E6335188>]]\n"
     ]
    },
    {
     "data": {
      "image/png": "[encoded data removed]",
      "text/plain": [
       "<Figure size 432x288 with 1 Axes>"
      ]
     },
     "metadata": {
      "needs_background": "light"
     },
     "output_type": "display_data"
    }
   ],
   "source": [
    "print(data.hist('RegistrationYear', bins=[i for i in range(1921, 2021, 1)]))"
   ]
  },
  {
   "cell_type": "markdown",
   "metadata": {},
   "source": [
    "Видим, какую-то странную яму в 2015 году, но это тема для отдельного исследования (не сегодня):"
   ]
  },
  {
   "cell_type": "code",
   "execution_count": 41,
   "metadata": {
    "scrolled": false
   },
   "outputs": [
    {
     "name": "stdout",
     "output_type": "stream",
     "text": [
      "2010.0    10764\n",
      "2011.0     9909\n",
      "2012.0     7178\n",
      "2013.0     4131\n",
      "2014.0     2537\n",
      "2015.0     1302\n",
      "2016.0     9599\n",
      "2017.0    10441\n",
      "2018.0     3959\n",
      "2019.0       25\n",
      "Name: RegistrationYear, dtype: int64\n"
     ]
    }
   ],
   "source": [
    "print(data.query('RegistrationYear >= 2010 and RegistrationYear <= 2020')['RegistrationYear'].value_counts().sort_index())"
   ]
  },
  {
   "cell_type": "markdown",
   "metadata": {},
   "source": [
    "### Признак `Power`"
   ]
  },
  {
   "cell_type": "code",
   "execution_count": 42,
   "metadata": {},
   "outputs": [
    {
     "name": "stdout",
     "output_type": "stream",
     "text": [
      "0        40225\n",
      "1           34\n",
      "2           10\n",
      "3            9\n",
      "4           30\n",
      "         ...  \n",
      "17932        1\n",
      "19208        1\n",
      "19211        1\n",
      "19312        1\n",
      "20000        1\n",
      "Name: Power, Length: 712, dtype: int64\n"
     ]
    }
   ],
   "source": [
    "print(data['Power'].value_counts(dropna=False).sort_index())"
   ]
  },
  {
   "cell_type": "markdown",
   "metadata": {},
   "source": [
    "В данных присутствуют аномалии. Исходим из предположения, что Power должно находится в интервале от 30 до 1300 лошадиных сил (интервал определил после изучения темы в интернете). Все остальные мощности оставляем пустыми."
   ]
  },
  {
   "cell_type": "code",
   "execution_count": 43,
   "metadata": {},
   "outputs": [
    {
     "name": "stdout",
     "output_type": "stream",
     "text": [
      "Power: пропуски в 41372 строках\n"
     ]
    }
   ],
   "source": [
    "data.loc[(data['Power'] < 30) | (data['Power'] > 1300), 'Power'] = None\n",
    "print_null_number(data, 'Power')"
   ]
  },
  {
   "cell_type": "markdown",
   "metadata": {},
   "source": [
    "Мы убрали явные аномалии, но в таблице могли остаться просто неадекватные значения Power - например, пользователь мог вместо 100 л.с. указать 1000 л.с., и подобная аномалия останется незамеченной. \n",
    "\n",
    "Ниже пример, когда для \"жука\" заявлено 1300 л.с.\n",
    "\n",
    "<img src=https://upload.wikimedia.org/wikipedia/commons/c/c0/1972_Volkswagen_Beetle_1.6_Rear.jpg width=\"30%\">"
   ]
  },
  {
   "cell_type": "code",
   "execution_count": 44,
   "metadata": {},
   "outputs": [
    {
     "data": {
      "text/html": [
       "<div>\n",
       "<style scoped>\n",
       "    .dataframe tbody tr th:only-of-type {\n",
       "        vertical-align: middle;\n",
       "    }\n",
       "\n",
       "    .dataframe tbody tr th {\n",
       "        vertical-align: top;\n",
       "    }\n",
       "\n",
       "    .dataframe thead th {\n",
       "        text-align: right;\n",
       "    }\n",
       "</style>\n",
       "<table border=\"1\" class=\"dataframe\">\n",
       "  <thead>\n",
       "    <tr style=\"text-align: right;\">\n",
       "      <th></th>\n",
       "      <th>Brand</th>\n",
       "      <th>Model</th>\n",
       "      <th>Power</th>\n",
       "      <th>VehicleType</th>\n",
       "      <th>RegistrationYear</th>\n",
       "    </tr>\n",
       "  </thead>\n",
       "  <tbody>\n",
       "    <tr>\n",
       "      <td>211816</td>\n",
       "      <td>volkswagen</td>\n",
       "      <td>kaefer</td>\n",
       "      <td>1300.0</td>\n",
       "      <td>small</td>\n",
       "      <td>1972.0</td>\n",
       "    </tr>\n",
       "    <tr>\n",
       "      <td>74531</td>\n",
       "      <td>volkswagen</td>\n",
       "      <td>kaefer</td>\n",
       "      <td>87.0</td>\n",
       "      <td>small</td>\n",
       "      <td>1983.0</td>\n",
       "    </tr>\n",
       "    <tr>\n",
       "      <td>347452</td>\n",
       "      <td>volkswagen</td>\n",
       "      <td>kaefer</td>\n",
       "      <td>70.0</td>\n",
       "      <td>small</td>\n",
       "      <td>1997.0</td>\n",
       "    </tr>\n",
       "    <tr>\n",
       "      <td>8029</td>\n",
       "      <td>volkswagen</td>\n",
       "      <td>kaefer</td>\n",
       "      <td>68.0</td>\n",
       "      <td>small</td>\n",
       "      <td>1971.0</td>\n",
       "    </tr>\n",
       "    <tr>\n",
       "      <td>62461</td>\n",
       "      <td>volkswagen</td>\n",
       "      <td>kaefer</td>\n",
       "      <td>65.0</td>\n",
       "      <td>small</td>\n",
       "      <td>1970.0</td>\n",
       "    </tr>\n",
       "  </tbody>\n",
       "</table>\n",
       "</div>"
      ],
      "text/plain": [
       "             Brand   Model   Power VehicleType  RegistrationYear\n",
       "211816  volkswagen  kaefer  1300.0       small            1972.0\n",
       "74531   volkswagen  kaefer    87.0       small            1983.0\n",
       "347452  volkswagen  kaefer    70.0       small            1997.0\n",
       "8029    volkswagen  kaefer    68.0       small            1971.0\n",
       "62461   volkswagen  kaefer    65.0       small            1970.0"
      ]
     },
     "execution_count": 44,
     "metadata": {},
     "output_type": "execute_result"
    }
   ],
   "source": [
    "data.query('Brand == \"volkswagen\" and Model == \"kaefer\" and VehicleType == \"small\"').loc[:, ['Brand', 'Model', 'Power', 'VehicleType', 'RegistrationYear']].sort_values(by='Power', ascending=False).head()"
   ]
  },
  {
   "cell_type": "markdown",
   "metadata": {},
   "source": [
    "Здравый смысл подсказывает, что мощность будет напрямую зависеть от:\n",
    "* марки автомобиля\n",
    "* модели\n",
    "* типа кузова\n",
    "* года выпуска (у нас это год регистрации; считаем, что это примерно одно и то же). Проблема в том, что если анализировать конкретный год, то выборка объявлений для поиска аномалий может оказаться нерепрезентативной. Поэтому добавим новую колонку RegYearGroup, и анализ мощностей будем вести по ней, а не по RegistrationYear."
   ]
  },
  {
   "cell_type": "code",
   "execution_count": 45,
   "metadata": {},
   "outputs": [
    {
     "name": "stdout",
     "output_type": "stream",
     "text": [
      "RegYearGroup:\n",
      "0: 1923.0 - 1999.0\n",
      "1: 1999.0 - 2003.0\n",
      "2: 2003.0 - 2008.0\n",
      "3: 2008.0 - 2019.0\n"
     ]
    }
   ],
   "source": [
    "# Заполняем RegYearGroup, все года будут делиться на указанное количество групп по квантилям \n",
    "# (чтобы в каждой группе было одинаковое количество записей)\n",
    "def add_column_RegYearGroup(data, groups_number):\n",
    "    if 'RegYearGroup' in list(data.columns):\n",
    "        data = data.drop('RegYearGroup', axis=1)\n",
    "        \n",
    "    for i in range(groups_number):\n",
    "        q_min = data['RegistrationYear'].quantile(q=i/groups_number)\n",
    "        q_max = data['RegistrationYear'].quantile(q=(i+1)/groups_number)\n",
    "        data.loc[(data['RegistrationYear'] >= q_min) & (data['RegistrationYear'] < q_max), 'RegYearGroup'] = i\n",
    "        print(f'{i}: {q_min} - {q_max}')\n",
    "        \n",
    "    return data\n",
    "            \n",
    "print('RegYearGroup:')\n",
    "data = add_column_RegYearGroup(data, 4)"
   ]
  },
  {
   "cell_type": "code",
   "execution_count": 46,
   "metadata": {},
   "outputs": [
    {
     "data": {
      "text/html": [
       "<div>\n",
       "<style scoped>\n",
       "    .dataframe tbody tr th:only-of-type {\n",
       "        vertical-align: middle;\n",
       "    }\n",
       "\n",
       "    .dataframe tbody tr th {\n",
       "        vertical-align: top;\n",
       "    }\n",
       "\n",
       "    .dataframe thead th {\n",
       "        text-align: right;\n",
       "    }\n",
       "</style>\n",
       "<table border=\"1\" class=\"dataframe\">\n",
       "  <thead>\n",
       "    <tr style=\"text-align: right;\">\n",
       "      <th></th>\n",
       "      <th>Brand</th>\n",
       "      <th>Model</th>\n",
       "      <th>VehicleType</th>\n",
       "      <th>RegYearGroup</th>\n",
       "      <th>count</th>\n",
       "      <th>Power_min</th>\n",
       "      <th>Power_max</th>\n",
       "      <th>Power_median</th>\n",
       "      <th>Power_q1</th>\n",
       "      <th>Power_q3</th>\n",
       "      <th>Power_boxplot_min</th>\n",
       "      <th>Power_boxplot_max</th>\n",
       "    </tr>\n",
       "  </thead>\n",
       "  <tbody>\n",
       "    <tr>\n",
       "      <td>0</td>\n",
       "      <td>alfa_romeo</td>\n",
       "      <td>145</td>\n",
       "      <td>coupe</td>\n",
       "      <td>1.0</td>\n",
       "      <td>1</td>\n",
       "      <td>103.0</td>\n",
       "      <td>103.0</td>\n",
       "      <td>103.0</td>\n",
       "      <td>103.0</td>\n",
       "      <td>103.0</td>\n",
       "      <td>103.00</td>\n",
       "      <td>103.00</td>\n",
       "    </tr>\n",
       "    <tr>\n",
       "      <td>1</td>\n",
       "      <td>alfa_romeo</td>\n",
       "      <td>145</td>\n",
       "      <td>other</td>\n",
       "      <td>0.0</td>\n",
       "      <td>1</td>\n",
       "      <td>100.0</td>\n",
       "      <td>100.0</td>\n",
       "      <td>100.0</td>\n",
       "      <td>100.0</td>\n",
       "      <td>100.0</td>\n",
       "      <td>100.00</td>\n",
       "      <td>100.00</td>\n",
       "    </tr>\n",
       "    <tr>\n",
       "      <td>2</td>\n",
       "      <td>alfa_romeo</td>\n",
       "      <td>145</td>\n",
       "      <td>sedan</td>\n",
       "      <td>0.0</td>\n",
       "      <td>5</td>\n",
       "      <td>90.0</td>\n",
       "      <td>227.0</td>\n",
       "      <td>120.0</td>\n",
       "      <td>119.0</td>\n",
       "      <td>140.0</td>\n",
       "      <td>90.00</td>\n",
       "      <td>171.50</td>\n",
       "    </tr>\n",
       "    <tr>\n",
       "      <td>3</td>\n",
       "      <td>alfa_romeo</td>\n",
       "      <td>145</td>\n",
       "      <td>sedan</td>\n",
       "      <td>1.0</td>\n",
       "      <td>7</td>\n",
       "      <td>103.0</td>\n",
       "      <td>120.0</td>\n",
       "      <td>103.0</td>\n",
       "      <td>103.0</td>\n",
       "      <td>111.5</td>\n",
       "      <td>103.00</td>\n",
       "      <td>120.00</td>\n",
       "    </tr>\n",
       "    <tr>\n",
       "      <td>4</td>\n",
       "      <td>alfa_romeo</td>\n",
       "      <td>145</td>\n",
       "      <td>small</td>\n",
       "      <td>0.0</td>\n",
       "      <td>9</td>\n",
       "      <td>66.0</td>\n",
       "      <td>150.0</td>\n",
       "      <td>103.0</td>\n",
       "      <td>100.0</td>\n",
       "      <td>129.0</td>\n",
       "      <td>66.00</td>\n",
       "      <td>150.00</td>\n",
       "    </tr>\n",
       "    <tr>\n",
       "      <td>5</td>\n",
       "      <td>alfa_romeo</td>\n",
       "      <td>145</td>\n",
       "      <td>small</td>\n",
       "      <td>1.0</td>\n",
       "      <td>9</td>\n",
       "      <td>102.0</td>\n",
       "      <td>120.0</td>\n",
       "      <td>103.0</td>\n",
       "      <td>103.0</td>\n",
       "      <td>120.0</td>\n",
       "      <td>102.00</td>\n",
       "      <td>120.00</td>\n",
       "    </tr>\n",
       "    <tr>\n",
       "      <td>6</td>\n",
       "      <td>alfa_romeo</td>\n",
       "      <td>147</td>\n",
       "      <td>coupe</td>\n",
       "      <td>1.0</td>\n",
       "      <td>11</td>\n",
       "      <td>105.0</td>\n",
       "      <td>150.0</td>\n",
       "      <td>120.0</td>\n",
       "      <td>105.0</td>\n",
       "      <td>150.0</td>\n",
       "      <td>105.00</td>\n",
       "      <td>150.00</td>\n",
       "    </tr>\n",
       "    <tr>\n",
       "      <td>7</td>\n",
       "      <td>alfa_romeo</td>\n",
       "      <td>147</td>\n",
       "      <td>coupe</td>\n",
       "      <td>2.0</td>\n",
       "      <td>15</td>\n",
       "      <td>77.0</td>\n",
       "      <td>144.0</td>\n",
       "      <td>120.0</td>\n",
       "      <td>112.5</td>\n",
       "      <td>120.0</td>\n",
       "      <td>101.25</td>\n",
       "      <td>131.25</td>\n",
       "    </tr>\n",
       "    <tr>\n",
       "      <td>8</td>\n",
       "      <td>alfa_romeo</td>\n",
       "      <td>147</td>\n",
       "      <td>coupe</td>\n",
       "      <td>3.0</td>\n",
       "      <td>1</td>\n",
       "      <td>150.0</td>\n",
       "      <td>150.0</td>\n",
       "      <td>150.0</td>\n",
       "      <td>150.0</td>\n",
       "      <td>150.0</td>\n",
       "      <td>150.00</td>\n",
       "      <td>150.00</td>\n",
       "    </tr>\n",
       "    <tr>\n",
       "      <td>9</td>\n",
       "      <td>alfa_romeo</td>\n",
       "      <td>147</td>\n",
       "      <td>other</td>\n",
       "      <td>1.0</td>\n",
       "      <td>3</td>\n",
       "      <td>105.0</td>\n",
       "      <td>150.0</td>\n",
       "      <td>120.0</td>\n",
       "      <td>112.5</td>\n",
       "      <td>135.0</td>\n",
       "      <td>105.00</td>\n",
       "      <td>150.00</td>\n",
       "    </tr>\n",
       "  </tbody>\n",
       "</table>\n",
       "</div>"
      ],
      "text/plain": [
       "        Brand Model VehicleType  RegYearGroup  count  Power_min  Power_max  \\\n",
       "0  alfa_romeo   145       coupe           1.0      1      103.0      103.0   \n",
       "1  alfa_romeo   145       other           0.0      1      100.0      100.0   \n",
       "2  alfa_romeo   145       sedan           0.0      5       90.0      227.0   \n",
       "3  alfa_romeo   145       sedan           1.0      7      103.0      120.0   \n",
       "4  alfa_romeo   145       small           0.0      9       66.0      150.0   \n",
       "5  alfa_romeo   145       small           1.0      9      102.0      120.0   \n",
       "6  alfa_romeo   147       coupe           1.0     11      105.0      150.0   \n",
       "7  alfa_romeo   147       coupe           2.0     15       77.0      144.0   \n",
       "8  alfa_romeo   147       coupe           3.0      1      150.0      150.0   \n",
       "9  alfa_romeo   147       other           1.0      3      105.0      150.0   \n",
       "\n",
       "   Power_median  Power_q1  Power_q3  Power_boxplot_min  Power_boxplot_max  \n",
       "0         103.0     103.0     103.0             103.00             103.00  \n",
       "1         100.0     100.0     100.0             100.00             100.00  \n",
       "2         120.0     119.0     140.0              90.00             171.50  \n",
       "3         103.0     103.0     111.5             103.00             120.00  \n",
       "4         103.0     100.0     129.0              66.00             150.00  \n",
       "5         103.0     103.0     120.0             102.00             120.00  \n",
       "6         120.0     105.0     150.0             105.00             150.00  \n",
       "7         120.0     112.5     120.0             101.25             131.25  \n",
       "8         150.0     150.0     150.0             150.00             150.00  \n",
       "9         120.0     112.5     135.0             105.00             150.00  "
      ]
     },
     "execution_count": 46,
     "metadata": {},
     "output_type": "execute_result"
    }
   ],
   "source": [
    "data_Power = data.query('Brand.notnull().values and Model.notnull().values and VehicleType.notnull().values and RegYearGroup.notnull().values and Power.notnull().values')\n",
    "data_Power = data_Power.groupby(['Brand', 'Model', 'VehicleType', 'RegYearGroup']).agg({'Power': ['count', 'min', 'max', 'median']}).reset_index()\n",
    "data_Power.columns = ['Brand', 'Model', 'VehicleType', 'RegYearGroup', 'count', 'Power_min', 'Power_max', 'Power_median']\n",
    "\n",
    "# Дополнительно для каждой группировки хочу получить квантили Q1 и Q3, чтобы рассчитать размах усов.\n",
    "# Как это сделать без цикла - не нашел\n",
    "for group, data_group in data.groupby(['Brand', 'Model', 'VehicleType', 'RegYearGroup']):\n",
    "    q1 = data_group['Power'].quantile(q=0.25)\n",
    "    q3 = data_group['Power'].quantile(q=0.75)\n",
    "\n",
    "    data_Power.loc[\n",
    "        (data_Power['Brand'] == group[0]) \n",
    "        & (data_Power['Model'] == group[1]) \n",
    "        & (data_Power['VehicleType'] == group[2]) \n",
    "        & (data_Power['RegYearGroup'] == group[3]), \n",
    "        'Power_q1'] = q1\n",
    "    \n",
    "    data_Power.loc[\n",
    "        (data_Power['Brand'] == group[0]) \n",
    "        & (data_Power['Model'] == group[1]) \n",
    "        & (data_Power['VehicleType'] == group[2]) \n",
    "        & (data_Power['RegYearGroup'] == group[3]), \n",
    "        'Power_q3'] = q3\n",
    "\n",
    "data_Power['Power_boxplot_min'] = pd.DataFrame([data_Power['Power_min'], data_Power['Power_q1'] - 1.5 * (data_Power['Power_q3'] - data_Power['Power_q1'])]).max()\n",
    "data_Power['Power_boxplot_max'] = pd.DataFrame([data_Power['Power_max'], data_Power['Power_q3'] + 1.5 * (data_Power['Power_q3'] - data_Power['Power_q1'])]).min()\n",
    "data_Power.head(10)"
   ]
  },
  {
   "cell_type": "code",
   "execution_count": 47,
   "metadata": {},
   "outputs": [],
   "source": [
    "data = data.merge(\n",
    "    data_Power.loc[:, ['Brand', 'Model', 'VehicleType', 'RegYearGroup', 'Power_boxplot_min', 'Power_boxplot_max']],\n",
    "    on=['Brand', 'Model', 'VehicleType', 'RegYearGroup'],\n",
    "    how='left'\n",
    ")\n",
    "\n",
    "# Удаление аномальных значений\n",
    "data.loc[(data['Power'] < data['Power_boxplot_min']) | (data['Power'] > data['Power_boxplot_max']), 'Power'] = None\n",
    "data = data.drop(['Power_boxplot_min', 'Power_boxplot_max'], axis=1)"
   ]
  },
  {
   "cell_type": "code",
   "execution_count": 48,
   "metadata": {},
   "outputs": [
    {
     "name": "stdout",
     "output_type": "stream",
     "text": [
      "Power: пропуски в 62113 строках\n"
     ]
    }
   ],
   "source": [
    "print_null_number(data, 'Power')"
   ]
  },
  {
   "cell_type": "markdown",
   "metadata": {},
   "source": [
    "Мы долго исправляли аномалии в колонке Power. В итоге получили непростительно много пропусков в таблице. Заполним пропуски средним значением: по данным Brand, Model, VehicleType, RegYearGroup."
   ]
  },
  {
   "cell_type": "code",
   "execution_count": 49,
   "metadata": {},
   "outputs": [],
   "source": [
    "# Реализуем универсальную процедуру для заполнения пропусков по средним значениям.\n",
    "# Параметры:\n",
    "#     data - таблица, в которой заполняются пропуски\n",
    "#     column - колонка, в которой заполняются пропуски\n",
    "#     group - стоблцы, по которым вычисляется среднее значение\n",
    "def fill_column_median(data, column, group):\n",
    "    query_str = ''\n",
    "    for col in group:\n",
    "        query_str += col + '.notnull().values and '\n",
    "    query_str += column + '.notnull().values'\n",
    "    \n",
    "    data_group = data.query(query_str).groupby(group)[column].median().reset_index()\n",
    "    data_group = data_group.rename(columns={column: column + '_median'})\n",
    "    \n",
    "    data = data.merge(data_group, on=group, how='left')\n",
    "    data.loc[(data[column].isnull()) & (data[column + '_median'].notnull()), column] = data[column + '_median']\n",
    "    data = data.drop(column + '_median', axis=1)\n",
    "    return data    "
   ]
  },
  {
   "cell_type": "code",
   "execution_count": 50,
   "metadata": {},
   "outputs": [
    {
     "name": "stdout",
     "output_type": "stream",
     "text": [
      "Power: пропуски в 17927 строках\n"
     ]
    }
   ],
   "source": [
    "data = fill_column_median(data, 'Power', ['Brand', 'Model', 'VehicleType', 'RegYearGroup'])\n",
    "print_null_number(data, 'Power')"
   ]
  },
  {
   "cell_type": "code",
   "execution_count": 51,
   "metadata": {
    "scrolled": true
   },
   "outputs": [
    {
     "data": {
      "text/html": [
       "<div>\n",
       "<style scoped>\n",
       "    .dataframe tbody tr th:only-of-type {\n",
       "        vertical-align: middle;\n",
       "    }\n",
       "\n",
       "    .dataframe tbody tr th {\n",
       "        vertical-align: top;\n",
       "    }\n",
       "\n",
       "    .dataframe thead th {\n",
       "        text-align: right;\n",
       "    }\n",
       "</style>\n",
       "<table border=\"1\" class=\"dataframe\">\n",
       "  <thead>\n",
       "    <tr style=\"text-align: right;\">\n",
       "      <th></th>\n",
       "      <th>Brand</th>\n",
       "      <th>Model</th>\n",
       "      <th>Power</th>\n",
       "      <th>VehicleType</th>\n",
       "      <th>RegistrationYear</th>\n",
       "    </tr>\n",
       "  </thead>\n",
       "  <tbody>\n",
       "    <tr>\n",
       "      <td>72739</td>\n",
       "      <td>volkswagen</td>\n",
       "      <td>kaefer</td>\n",
       "      <td>60.0</td>\n",
       "      <td>small</td>\n",
       "      <td>1964.0</td>\n",
       "    </tr>\n",
       "    <tr>\n",
       "      <td>90174</td>\n",
       "      <td>volkswagen</td>\n",
       "      <td>kaefer</td>\n",
       "      <td>60.0</td>\n",
       "      <td>small</td>\n",
       "      <td>1972.0</td>\n",
       "    </tr>\n",
       "    <tr>\n",
       "      <td>278151</td>\n",
       "      <td>volkswagen</td>\n",
       "      <td>kaefer</td>\n",
       "      <td>60.0</td>\n",
       "      <td>small</td>\n",
       "      <td>1975.0</td>\n",
       "    </tr>\n",
       "    <tr>\n",
       "      <td>146969</td>\n",
       "      <td>volkswagen</td>\n",
       "      <td>kaefer</td>\n",
       "      <td>50.0</td>\n",
       "      <td>small</td>\n",
       "      <td>1974.0</td>\n",
       "    </tr>\n",
       "    <tr>\n",
       "      <td>260526</td>\n",
       "      <td>volkswagen</td>\n",
       "      <td>kaefer</td>\n",
       "      <td>50.0</td>\n",
       "      <td>small</td>\n",
       "      <td>1973.0</td>\n",
       "    </tr>\n",
       "  </tbody>\n",
       "</table>\n",
       "</div>"
      ],
      "text/plain": [
       "             Brand   Model  Power VehicleType  RegistrationYear\n",
       "72739   volkswagen  kaefer   60.0       small            1964.0\n",
       "90174   volkswagen  kaefer   60.0       small            1972.0\n",
       "278151  volkswagen  kaefer   60.0       small            1975.0\n",
       "146969  volkswagen  kaefer   50.0       small            1974.0\n",
       "260526  volkswagen  kaefer   50.0       small            1973.0"
      ]
     },
     "execution_count": 51,
     "metadata": {},
     "output_type": "execute_result"
    }
   ],
   "source": [
    "# Проверим, что в итоге получилось с жуком?\n",
    "data.query('Brand == \"volkswagen\" and Model == \"kaefer\" and VehicleType == \"small\"').loc[:, ['Brand', 'Model', 'Power', 'VehicleType', 'RegistrationYear']].sort_values(by='Power', ascending=False).head()"
   ]
  },
  {
   "cell_type": "code",
   "execution_count": 52,
   "metadata": {},
   "outputs": [],
   "source": [
    "# В конце удалим уже не нужный признак RegYearGroup\n",
    "if 'RegYearGroup' in list(data.columns):\n",
    "    data = data.drop('RegYearGroup', axis=1)"
   ]
  },
  {
   "cell_type": "markdown",
   "metadata": {},
   "source": [
    "### Признак `Kilometer`"
   ]
  },
  {
   "cell_type": "code",
   "execution_count": 53,
   "metadata": {},
   "outputs": [
    {
     "name": "stdout",
     "output_type": "stream",
     "text": [
      "5000        6397\n",
      "10000       1222\n",
      "20000       3975\n",
      "30000       4436\n",
      "40000       4911\n",
      "50000       6232\n",
      "60000       7444\n",
      "70000       8593\n",
      "80000      10047\n",
      "90000      11567\n",
      "100000     14882\n",
      "125000     36454\n",
      "150000    238209\n",
      "Name: Kilometer, dtype: int64\n"
     ]
    }
   ],
   "source": [
    "print(data['Kilometer'].value_counts(dropna=False).sort_index())"
   ]
  },
  {
   "cell_type": "markdown",
   "metadata": {},
   "source": [
    "Аномалий не обнаружено."
   ]
  },
  {
   "cell_type": "markdown",
   "metadata": {},
   "source": [
    "### Признак `NotRepaired`"
   ]
  },
  {
   "cell_type": "code",
   "execution_count": 54,
   "metadata": {},
   "outputs": [
    {
     "name": "stdout",
     "output_type": "stream",
     "text": [
      "no     247161\n",
      "yes     36054\n",
      "NaN     71154\n",
      "Name: NotRepaired, dtype: int64\n"
     ]
    }
   ],
   "source": [
    "print(data['NotRepaired'].value_counts(dropna=False).sort_index())"
   ]
  },
  {
   "cell_type": "markdown",
   "metadata": {},
   "source": [
    "* Значение nan трогать не будем\n",
    "* Значение yes переведем в 1\n",
    "* Значение no переведем в 0"
   ]
  },
  {
   "cell_type": "code",
   "execution_count": 55,
   "metadata": {},
   "outputs": [],
   "source": [
    "data.loc[data['NotRepaired'] == 'yes', 'NotRepaired'] = 1\n",
    "data.loc[data['NotRepaired'] == 'no', 'NotRepaired'] = 0"
   ]
  },
  {
   "cell_type": "code",
   "execution_count": 56,
   "metadata": {},
   "outputs": [
    {
     "name": "stdout",
     "output_type": "stream",
     "text": [
      "0.0    247161\n",
      "1.0     36054\n",
      "NaN     71154\n",
      "Name: NotRepaired, dtype: int64\n"
     ]
    }
   ],
   "source": [
    "print(data['NotRepaired'].value_counts(dropna=False).sort_index())"
   ]
  },
  {
   "cell_type": "markdown",
   "metadata": {},
   "source": [
    "### Признак `Brand`"
   ]
  },
  {
   "cell_type": "code",
   "execution_count": 57,
   "metadata": {
    "scrolled": true
   },
   "outputs": [
    {
     "name": "stdout",
     "output_type": "stream",
     "text": [
      "['alfa_romeo' 'audi' 'bmw' 'chevrolet' 'chrysler' 'citroen' 'dacia'\n",
      " 'daewoo' 'daihatsu' 'fiat' 'ford' 'honda' 'hyundai' 'jaguar' 'jeep' 'kia'\n",
      " 'lada' 'lancia' 'land_rover' 'mazda' 'mercedes_benz' 'mini' 'mitsubishi'\n",
      " 'nissan' 'opel' 'peugeot' 'porsche' 'renault' 'rover' 'saab' 'seat'\n",
      " 'skoda' 'smart' 'sonstige_autos' 'subaru' 'suzuki' 'toyota' 'trabant'\n",
      " 'volkswagen' 'volvo']\n"
     ]
    }
   ],
   "source": [
    "# Brand\n",
    "print(np.sort(data['Brand'].unique()))"
   ]
  },
  {
   "cell_type": "markdown",
   "metadata": {},
   "source": [
    "**Итог**: мы проверили выполнили проверку данных, удалили аномалии, заполнили пропуски там где это возможно. Часть признаков анализировать нет смысла, а именно:\n",
    "* Model - есть пропуски, но заполнить из не удастся; искать аномалии (типа ошибок в написании) не вижу смысла\n",
    "* RegistrationMonth, PostalCode - считаю не существенными для построения модели\n",
    "* NumberOfPictures - для всех строк таблицы значение = 0"
   ]
  },
  {
   "cell_type": "markdown",
   "metadata": {},
   "source": [
    "# 2. Обучение моделей"
   ]
  },
  {
   "cell_type": "markdown",
   "metadata": {},
   "source": [
    "Будем использовать 2 библиотеки:\n",
    "* LightGBM\n",
    "* CatBoost\n",
    "\n",
    "Выделим: \n",
    "* признаки, которые НЕ будем использовать для обучения: считаем их несущественными для построения модели (например, PostalCode)\n",
    "* из оставшихся признаков - выделим категориальные признаки"
   ]
  },
  {
   "cell_type": "code",
   "execution_count": 58,
   "metadata": {},
   "outputs": [],
   "source": [
    "drop_features = ['DateCrawled', 'RegistrationMonth', 'DateCreated', 'NumberOfPictures', 'PostalCode', 'LastSeen']\n",
    "cat_features = ['VehicleType', 'Gearbox', 'Model', 'FuelType', 'Brand', 'NotRepaired']"
   ]
  },
  {
   "cell_type": "code",
   "execution_count": 59,
   "metadata": {},
   "outputs": [],
   "source": [
    "# Процедура прямого кодирования\n",
    "# В отличие от типового OrdinalEncoding не спотыкается об Nan\n",
    "def my_OrdinalEncoder(data, features):\n",
    "    for feature in features:\n",
    "        unique_values = data[feature].unique()\n",
    "        for i in range(len(unique_values)):\n",
    "            # Проверка на nan\n",
    "            if unique_values[i] != unique_values[i]:\n",
    "                data.loc[data[feature].isnull(), feature] = i\n",
    "            else:\n",
    "                data.loc[data[feature] == unique_values[i], feature] = i"
   ]
  },
  {
   "cell_type": "code",
   "execution_count": 60,
   "metadata": {},
   "outputs": [],
   "source": [
    "x = data.drop(drop_features + ['Price'], axis=1)\n",
    "my_OrdinalEncoder(x, cat_features)\n",
    "\n",
    "y = data['Price']\n",
    "\n",
    "x_train, x_valid_test, y_train, y_valid_test = train_test_split(x, y, test_size=0.4, random_state=RANDOM_STATE)\n",
    "x_valid, x_test, y_valid, y_test = train_test_split(x_valid_test, y_valid_test, test_size=0.5, random_state=RANDOM_STATE)\n",
    "\n",
    "del x_valid_test\n",
    "del y_valid_test"
   ]
  },
  {
   "cell_type": "code",
   "execution_count": 61,
   "metadata": {},
   "outputs": [
    {
     "name": "stdout",
     "output_type": "stream",
     "text": [
      "<class 'pandas.core.frame.DataFrame'>\n",
      "Int64Index: 354369 entries, 0 to 354368\n",
      "Data columns (total 9 columns):\n",
      "VehicleType         354369 non-null int64\n",
      "RegistrationYear    354094 non-null float64\n",
      "Gearbox             354369 non-null int64\n",
      "Power               336442 non-null float64\n",
      "Model               354369 non-null int64\n",
      "Kilometer           354369 non-null int64\n",
      "FuelType            354369 non-null int64\n",
      "Brand               354369 non-null int64\n",
      "NotRepaired         354369 non-null int64\n",
      "dtypes: float64(2), int64(7)\n",
      "memory usage: 37.0 MB\n"
     ]
    }
   ],
   "source": [
    "x.info()"
   ]
  },
  {
   "cell_type": "code",
   "execution_count": 62,
   "metadata": {},
   "outputs": [],
   "source": [
    "# Итерация градиентного бустинга\n",
    "N_ITER = 100"
   ]
  },
  {
   "cell_type": "markdown",
   "metadata": {},
   "source": [
    "### CatBoost"
   ]
  },
  {
   "cell_type": "code",
   "execution_count": 63,
   "metadata": {},
   "outputs": [
    {
     "name": "stdout",
     "output_type": "stream",
     "text": [
      "CatBoostRegressor\n",
      "RMSE для valid: 1804.9334763699121\n",
      "{'iterations': 100, 'learning_rate': 0.30000000000000004, 'depth': 15, 'loss_function': 'RMSE'}\n",
      "Wall time: 5min 5s\n"
     ]
    }
   ],
   "source": [
    "%%time\n",
    "\n",
    "print('CatBoostRegressor')\n",
    "\n",
    "best_model = None\n",
    "min_rmse = 10**6\n",
    "\n",
    "for learning_rate in np.arange(0.1, 0.51, 0.2):\n",
    "    for depth in range(5, 16, 5):\n",
    "        model = CatBoostRegressor(loss_function='RMSE', iterations=N_ITER, learning_rate=learning_rate, depth=depth)\n",
    "        model.fit(x_train, y_train, cat_features=cat_features, verbose=0)\n",
    "        pred = model.predict(x_valid)\n",
    "        rmse = mean_squared_error(y_valid, pred) ** 0.5\n",
    "        if rmse < min_rmse:\n",
    "            best_model = model\n",
    "            min_rmse = rmse\n",
    "        \n",
    "print(f'RMSE для valid: {min_rmse}')\n",
    "print(best_model.get_params())"
   ]
  },
  {
   "cell_type": "code",
   "execution_count": 64,
   "metadata": {},
   "outputs": [
    {
     "name": "stdout",
     "output_type": "stream",
     "text": [
      "RMSE для test: 1817.5461511574058\n",
      "Wall time: 314 ms\n"
     ]
    }
   ],
   "source": [
    "%%time\n",
    "\n",
    "pred = best_model.predict(x_test)\n",
    "catboost_rmse = mean_squared_error(y_test, pred) ** 0.5\n",
    "print(f'RMSE для test: {catboost_rmse}')"
   ]
  },
  {
   "cell_type": "markdown",
   "metadata": {},
   "source": [
    "### LightGBM"
   ]
  },
  {
   "cell_type": "code",
   "execution_count": 65,
   "metadata": {},
   "outputs": [
    {
     "name": "stdout",
     "output_type": "stream",
     "text": [
      "LGBMRegressor\n",
      "RMSE: 1854.5409885264712\n",
      "{'boosting_type': 'gbdt', 'class_weight': None, 'colsample_bytree': 1.0, 'importance_type': 'split', 'learning_rate': 0.30000000000000004, 'max_depth': 15, 'min_child_samples': 20, 'min_child_weight': 0.001, 'min_split_gain': 0.0, 'n_estimators': 100, 'n_jobs': -1, 'num_leaves': 30, 'objective': None, 'random_state': None, 'reg_alpha': 0.0, 'reg_lambda': 0.0, 'silent': True, 'subsample': 1.0, 'subsample_for_bin': 200000, 'subsample_freq': 0}\n",
      "Wall time: 46.5 s\n"
     ]
    }
   ],
   "source": [
    "%%time\n",
    "\n",
    "print('LGBMRegressor')\n",
    "\n",
    "best_model = None\n",
    "min_rmse = 10**6\n",
    "\n",
    "for num_leaves in range(10, 31, 10):\n",
    "    for learning_rate in np.arange(0.1, 0.31, 0.1):\n",
    "        for max_depth in range(5, 16, 5):\n",
    "            model = LGBMRegressor(num_leaves=num_leaves, learning_rate=learning_rate, max_depth=max_depth, n_estimators=N_ITER)\n",
    "            model.fit(x_train, y_train, eval_set=[(x_valid, y_valid)], eval_metric='RMSE', verbose=0)\n",
    "            pred = model.predict(x_valid)\n",
    "            rmse = mean_squared_error(y_valid, pred) ** 0.5\n",
    "            if rmse < min_rmse:\n",
    "                best_model = model\n",
    "                min_rmse = rmse\n",
    "\n",
    "print(f'RMSE: {min_rmse}')\n",
    "print(best_model.get_params())"
   ]
  },
  {
   "cell_type": "code",
   "execution_count": 66,
   "metadata": {},
   "outputs": [
    {
     "name": "stdout",
     "output_type": "stream",
     "text": [
      "RMSE для test: 1872.189030862391\n",
      "Wall time: 232 ms\n"
     ]
    }
   ],
   "source": [
    "%%time\n",
    "\n",
    "pred = best_model.predict(x_test)\n",
    "lightgbm_rmse = mean_squared_error(y_test, pred) ** 0.5\n",
    "print(f'RMSE для test: {lightgbm_rmse}')"
   ]
  },
  {
   "cell_type": "markdown",
   "metadata": {},
   "source": [
    "# 3. Анализ моделей"
   ]
  },
  {
   "cell_type": "code",
   "execution_count": 67,
   "metadata": {},
   "outputs": [
    {
     "name": "stdout",
     "output_type": "stream",
     "text": [
      "|Модель         |Точность, RMSE |Скорость       |\n",
      "|Catboost       |        1817.55|         337 ms|\n",
      "|LightGBM       |        1872.19|         579 ms|\n"
     ]
    }
   ],
   "source": [
    "print('|{:<15}|{:<15}|{:<15}|'.format('Модель', 'Точность, RMSE', 'Скорость'))\n",
    "print('|{:<15}|{:>15}|{:>15}|'.format('Catboost', round(catboost_rmse, 2), '337 ms'))\n",
    "print('|{:<15}|{:>15}|{:>15}|'.format('LightGBM', round(lightgbm_rmse, 2), '579 ms'))"
   ]
  },
  {
   "cell_type": "markdown",
   "metadata": {},
   "source": [
    "**Выводы о работе моделей:**\n",
    "* **Скорость работы.** Обученная LightGBM работает немного быстрее, чем Catboost.\n",
    "* **Качество моделей.** Качество моделей примерно одинаковое. Видимо, за счет удачного подбора гиперпараметров Catboost немного вышел вперед."
   ]
  },
  {
   "cell_type": "code",
   "execution_count": null,
   "metadata": {},
   "outputs": [],
   "source": []
  }
 ],
 "metadata": {
  "kernelspec": {
   "display_name": "Python 3",
   "language": "python",
   "name": "python3"
  },
  "language_info": {
   "codemirror_mode": {
    "name": "ipython",
    "version": 3
   },
   "file_extension": ".py",
   "mimetype": "text/x-python",
   "name": "python",
   "nbconvert_exporter": "python",
   "pygments_lexer": "ipython3",
   "version": "3.7.4"
  }
 },
 "nbformat": 4,
 "nbformat_minor": 2
}
