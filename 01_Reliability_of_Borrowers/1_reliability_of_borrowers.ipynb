{
 "cells": [
  {
   "cell_type": "markdown",
   "metadata": {},
   "source": [
    "## Исследование надёжности заёмщиков\n",
    "\n",
    "Заказчик — кредитный отдел банка. Нужно разобраться, влияет ли семейное положение и количество детей клиента на факт погашения кредита в срок. Входные данные от банка — статистика о платёжеспособности клиентов.\n",
    "\n",
    "Результаты исследования будут учтены при построении модели **кредитного скоринга** — специальной системы, которая оценивает способность потенциального заёмщика вернуть кредит банку."
   ]
  },
  {
   "cell_type": "markdown",
   "metadata": {},
   "source": [
    "### Шаг 1. Откройте файл с данными и изучите общую информацию. "
   ]
  },
  {
   "cell_type": "code",
   "execution_count": 1,
   "metadata": {},
   "outputs": [
    {
     "name": "stdout",
     "output_type": "stream",
     "text": [
      "<class 'pandas.core.frame.DataFrame'>\n",
      "RangeIndex: 21525 entries, 0 to 21524\n",
      "Data columns (total 12 columns):\n",
      "children            21525 non-null int64\n",
      "days_employed       19351 non-null float64\n",
      "dob_years           21525 non-null int64\n",
      "education           21525 non-null object\n",
      "education_id        21525 non-null int64\n",
      "family_status       21525 non-null object\n",
      "family_status_id    21525 non-null int64\n",
      "gender              21525 non-null object\n",
      "income_type         21525 non-null object\n",
      "debt                21525 non-null int64\n",
      "total_income        19351 non-null float64\n",
      "purpose             21525 non-null object\n",
      "dtypes: float64(2), int64(5), object(5)\n",
      "memory usage: 2.0+ MB\n"
     ]
    },
    {
     "data": {
      "text/html": [
       "<div>\n",
       "<style scoped>\n",
       "    .dataframe tbody tr th:only-of-type {\n",
       "        vertical-align: middle;\n",
       "    }\n",
       "\n",
       "    .dataframe tbody tr th {\n",
       "        vertical-align: top;\n",
       "    }\n",
       "\n",
       "    .dataframe thead th {\n",
       "        text-align: right;\n",
       "    }\n",
       "</style>\n",
       "<table border=\"1\" class=\"dataframe\">\n",
       "  <thead>\n",
       "    <tr style=\"text-align: right;\">\n",
       "      <th></th>\n",
       "      <th>children</th>\n",
       "      <th>days_employed</th>\n",
       "      <th>dob_years</th>\n",
       "      <th>education</th>\n",
       "      <th>education_id</th>\n",
       "      <th>family_status</th>\n",
       "      <th>family_status_id</th>\n",
       "      <th>gender</th>\n",
       "      <th>income_type</th>\n",
       "      <th>debt</th>\n",
       "      <th>total_income</th>\n",
       "      <th>purpose</th>\n",
       "    </tr>\n",
       "  </thead>\n",
       "  <tbody>\n",
       "    <tr>\n",
       "      <td>0</td>\n",
       "      <td>1</td>\n",
       "      <td>-8437.673028</td>\n",
       "      <td>42</td>\n",
       "      <td>высшее</td>\n",
       "      <td>0</td>\n",
       "      <td>женат / замужем</td>\n",
       "      <td>0</td>\n",
       "      <td>F</td>\n",
       "      <td>сотрудник</td>\n",
       "      <td>0</td>\n",
       "      <td>253875.639453</td>\n",
       "      <td>покупка жилья</td>\n",
       "    </tr>\n",
       "    <tr>\n",
       "      <td>1</td>\n",
       "      <td>1</td>\n",
       "      <td>-4024.803754</td>\n",
       "      <td>36</td>\n",
       "      <td>среднее</td>\n",
       "      <td>1</td>\n",
       "      <td>женат / замужем</td>\n",
       "      <td>0</td>\n",
       "      <td>F</td>\n",
       "      <td>сотрудник</td>\n",
       "      <td>0</td>\n",
       "      <td>112080.014102</td>\n",
       "      <td>приобретение автомобиля</td>\n",
       "    </tr>\n",
       "    <tr>\n",
       "      <td>2</td>\n",
       "      <td>0</td>\n",
       "      <td>-5623.422610</td>\n",
       "      <td>33</td>\n",
       "      <td>Среднее</td>\n",
       "      <td>1</td>\n",
       "      <td>женат / замужем</td>\n",
       "      <td>0</td>\n",
       "      <td>M</td>\n",
       "      <td>сотрудник</td>\n",
       "      <td>0</td>\n",
       "      <td>145885.952297</td>\n",
       "      <td>покупка жилья</td>\n",
       "    </tr>\n",
       "    <tr>\n",
       "      <td>3</td>\n",
       "      <td>3</td>\n",
       "      <td>-4124.747207</td>\n",
       "      <td>32</td>\n",
       "      <td>среднее</td>\n",
       "      <td>1</td>\n",
       "      <td>женат / замужем</td>\n",
       "      <td>0</td>\n",
       "      <td>M</td>\n",
       "      <td>сотрудник</td>\n",
       "      <td>0</td>\n",
       "      <td>267628.550329</td>\n",
       "      <td>дополнительное образование</td>\n",
       "    </tr>\n",
       "    <tr>\n",
       "      <td>4</td>\n",
       "      <td>0</td>\n",
       "      <td>340266.072047</td>\n",
       "      <td>53</td>\n",
       "      <td>среднее</td>\n",
       "      <td>1</td>\n",
       "      <td>гражданский брак</td>\n",
       "      <td>1</td>\n",
       "      <td>F</td>\n",
       "      <td>пенсионер</td>\n",
       "      <td>0</td>\n",
       "      <td>158616.077870</td>\n",
       "      <td>сыграть свадьбу</td>\n",
       "    </tr>\n",
       "  </tbody>\n",
       "</table>\n",
       "</div>"
      ],
      "text/plain": [
       "   children  days_employed  dob_years education  education_id  \\\n",
       "0         1   -8437.673028         42    высшее             0   \n",
       "1         1   -4024.803754         36   среднее             1   \n",
       "2         0   -5623.422610         33   Среднее             1   \n",
       "3         3   -4124.747207         32   среднее             1   \n",
       "4         0  340266.072047         53   среднее             1   \n",
       "\n",
       "      family_status  family_status_id gender income_type  debt   total_income  \\\n",
       "0   женат / замужем                 0      F   сотрудник     0  253875.639453   \n",
       "1   женат / замужем                 0      F   сотрудник     0  112080.014102   \n",
       "2   женат / замужем                 0      M   сотрудник     0  145885.952297   \n",
       "3   женат / замужем                 0      M   сотрудник     0  267628.550329   \n",
       "4  гражданский брак                 1      F   пенсионер     0  158616.077870   \n",
       "\n",
       "                      purpose  \n",
       "0               покупка жилья  \n",
       "1     приобретение автомобиля  \n",
       "2               покупка жилья  \n",
       "3  дополнительное образование  \n",
       "4             сыграть свадьбу  "
      ]
     },
     "execution_count": 1,
     "metadata": {},
     "output_type": "execute_result"
    }
   ],
   "source": [
    "import pandas as pd\n",
    "data = pd.read_csv('/datasets/data.csv')\n",
    "data.info()\n",
    "data.head()"
   ]
  },
  {
   "cell_type": "markdown",
   "metadata": {},
   "source": [
    "### Вывод"
   ]
  },
  {
   "cell_type": "code",
   "execution_count": 2,
   "metadata": {},
   "outputs": [
    {
     "data": {
      "text/plain": [
       "children               0\n",
       "days_employed       2174\n",
       "dob_years              0\n",
       "education              0\n",
       "education_id           0\n",
       "family_status          0\n",
       "family_status_id       0\n",
       "gender                 0\n",
       "income_type            0\n",
       "debt                   0\n",
       "total_income        2174\n",
       "purpose                0\n",
       "dtype: int64"
      ]
     },
     "execution_count": 2,
     "metadata": {},
     "output_type": "execute_result"
    }
   ],
   "source": [
    "# По количеству строк сразу видно, что в колонках days_employed и total_income есть пустые значения\n",
    "data.isnull().sum()"
   ]
  },
  {
   "cell_type": "markdown",
   "metadata": {},
   "source": [
    "### Шаг 2. Предобработка данных"
   ]
  },
  {
   "cell_type": "markdown",
   "metadata": {},
   "source": [
    "### Обработка пропусков"
   ]
  },
  {
   "cell_type": "code",
   "execution_count": 3,
   "metadata": {},
   "outputs": [],
   "source": [
    "# Для начала заполним пустые значения нулями\n",
    "data['days_employed'] = data['days_employed'].fillna(0)\n",
    "data['total_income'] = data['total_income'].fillna(0)"
   ]
  },
  {
   "cell_type": "code",
   "execution_count": 4,
   "metadata": {},
   "outputs": [
    {
     "name": "stdout",
     "output_type": "stream",
     "text": [
      "328728.72060451825\n",
      "3445\n"
     ]
    }
   ],
   "source": [
    "# В 5-ой строке таблицы видим days_employed = 340266: число хоть и положительное, но аномально большое. \n",
    "# Получается, что трудовой стаж человека - почти 931 год!\n",
    "# Проверка показывает, что все положительные значения в колонке days_employed аномальные:\n",
    "print(data[data['days_employed'] > 0]['days_employed'].min())\n",
    "print(data[data['days_employed'] > 0]['days_employed'].shape[0])"
   ]
  },
  {
   "cell_type": "code",
   "execution_count": 5,
   "metadata": {},
   "outputs": [
    {
     "name": "stdout",
     "output_type": "stream",
     "text": [
      "0\n"
     ]
    }
   ],
   "source": [
    "# Принял, решение обнулить все положительные значения в колонке days_employed\n",
    "# !!!!!!!!!!!!!!!!!!!!!!!!\n",
    "# Первоначально замену пустых значений делал вот так, но постоянно возникала ошибка:\n",
    "# A value is trying to be set on a copy of a slice from a DataFrame\n",
    "# data[data['days_employed'] > 0]['days_employed'] = 0\n",
    "# Буду очень признателен, если подскажите как эту ошибку надо было обойти \n",
    "\n",
    "def get_zero_for_positive_days_employed(days_employed):\n",
    "    if days_employed > 0:\n",
    "        return 0\n",
    "    else: return days_employed\n",
    "    \n",
    "data['days_employed'] = data['days_employed'].apply(get_zero_for_positive_days_employed)\n",
    "\n",
    "print(data[data['days_employed'] > 0].shape[0])"
   ]
  },
  {
   "cell_type": "code",
   "execution_count": 6,
   "metadata": {},
   "outputs": [
    {
     "name": "stdout",
     "output_type": "stream",
     "text": [
      "-24.14163324048118\n",
      "-18388.949900568383\n"
     ]
    }
   ],
   "source": [
    "# Также замечаем отрицательные значения в колонке days_employed. \n",
    "# Они хоть и отрицательные, но не такие экстремально большие\n",
    "print(data[data['days_employed'] < 0]['days_employed'].max())\n",
    "print(data[data['days_employed'] < 0]['days_employed'].min())"
   ]
  },
  {
   "cell_type": "code",
   "execution_count": 7,
   "metadata": {},
   "outputs": [
    {
     "name": "stdout",
     "output_type": "stream",
     "text": [
      "0.0\n",
      "2265604.028722744\n"
     ]
    }
   ],
   "source": [
    "# Сейчас предположу, что знак можно заменить с минуса на плюс, это и будет \"правильным\" значением.\n",
    "# Чуть дальше мы проверим \"адекватность\" такого предположения.\n",
    "data['days_employed'] = abs(data['days_employed'])\n",
    "\n",
    "# В колонке total_income все числа положительные\n",
    "print(data['total_income'].min())\n",
    "print(data['total_income'].max())"
   ]
  },
  {
   "cell_type": "code",
   "execution_count": 8,
   "metadata": {},
   "outputs": [
    {
     "name": "stdout",
     "output_type": "stream",
     "text": [
      "0     101\n",
      "19     14\n",
      "20     51\n",
      "21    111\n",
      "22    183\n",
      "23    254\n",
      "24    264\n",
      "25    357\n",
      "26    408\n",
      "27    493\n",
      "28    503\n",
      "29    545\n",
      "30    540\n",
      "31    560\n",
      "32    510\n",
      "33    581\n",
      "34    603\n",
      "35    617\n",
      "36    555\n",
      "37    537\n",
      "38    598\n",
      "39    573\n",
      "40    609\n",
      "41    607\n",
      "42    597\n",
      "43    513\n",
      "44    547\n",
      "45    497\n",
      "46    475\n",
      "47    480\n",
      "48    538\n",
      "49    508\n",
      "50    514\n",
      "51    448\n",
      "52    484\n",
      "53    459\n",
      "54    479\n",
      "55    443\n",
      "56    487\n",
      "57    460\n",
      "58    461\n",
      "59    444\n",
      "60    377\n",
      "61    355\n",
      "62    352\n",
      "63    269\n",
      "64    265\n",
      "65    194\n",
      "66    183\n",
      "67    167\n",
      "68     99\n",
      "69     85\n",
      "70     65\n",
      "71     58\n",
      "72     33\n",
      "73      8\n",
      "74      6\n",
      "75      1\n",
      "Name: dob_years, dtype: int64\n",
      "F      14236\n",
      "M       7288\n",
      "XNA        1\n",
      "Name: gender, dtype: int64\n"
     ]
    }
   ],
   "source": [
    "# Заменять пропущенные значения стажа и дохода средними некорректно: \n",
    "# все-таки они сильно зависят от возраста и пола человека. \n",
    "# Поэтому в первую очередь займемся изучением данных в столбцах возраст и пол\n",
    "print(data['dob_years'].value_counts().sort_index())\n",
    "print(data['gender'].value_counts())"
   ]
  },
  {
   "cell_type": "code",
   "execution_count": 9,
   "metadata": {},
   "outputs": [],
   "source": [
    "# Обнаружили, что есть 101 запись с 0 возрастом и 1 запись без указания пола.\n",
    "# Посмотрел внимательно на проблемные записи. Пришел к выводу, что эти данные нам не восстановить.\n",
    "# Но, к счастью, строк немного - удалим их из нашей таблицы:\n",
    "data = data[(data['dob_years'] != 0) & (data['gender'] != 'XNA')].reset_index(drop=True)"
   ]
  },
  {
   "cell_type": "markdown",
   "metadata": {},
   "source": [
    "Для возраста и пола предполагаю <b>человеческий фактор</b> в появлении ошибок. Система позволила не указать требуемые параметры - они остались пустыми."
   ]
  },
  {
   "cell_type": "code",
   "execution_count": 10,
   "metadata": {},
   "outputs": [
    {
     "name": "stdout",
     "output_type": "stream",
     "text": [
      "   gender dob_years_interval  clients  days_employed_mean  total_income_mean\n",
      "0       F               0-20       35          619.910256      114503.073807\n",
      "1       F              21-30     1916         1315.458540      147374.784105\n",
      "2       F              31-40     3145         2136.344388      160978.856909\n",
      "3       F              41-50     2993         3006.786963      162029.060595\n",
      "4       F              51-60     1551         3568.865959      166322.462419\n",
      "5       F                60+      257         4419.381813      180063.837421\n",
      "6       M               0-20       24          752.016431      133951.744304\n",
      "7       M              21-30     1383         1255.193186      182712.592052\n",
      "8       M              31-40     1988         2018.572495      204022.982352\n",
      "9       M              41-50     1579         2438.848269      207991.318586\n",
      "10      M              51-60      821         2820.656468      190744.210556\n",
      "11      M                60+      139         2855.811556      192540.217711\n"
     ]
    }
   ],
   "source": [
    "# Теперь, когда мы уверены в полноте данных о возрастах и полах клиентов, \n",
    "# займемся заполнением пропусков в данных о стаже и доходе\n",
    "\n",
    "# Категоризируем людей по возрастам (0-20, 21-30, 31-40, 41-50, 50-60, 60+)\n",
    "def get_dob_years_interval(dob_years):\n",
    "    if dob_years <= 20:\n",
    "        return '0-20'\n",
    "    elif 20 < dob_years <= 30:\n",
    "        return '21-30'\n",
    "    elif 30 < dob_years <= 40:\n",
    "        return '31-40'\n",
    "    elif 40 < dob_years <= 50:\n",
    "        return '41-50'\n",
    "    elif 50 < dob_years <= 60:\n",
    "        return '51-60'\n",
    "    else: return '60+'\n",
    "\n",
    "data_wo_mistakes = data[(data['days_employed'] > 0) & (data['total_income'] > 0)].reset_index(drop=True)\n",
    "data_wo_mistakes['dob_years_interval'] = data_wo_mistakes['dob_years'].apply(get_dob_years_interval)\n",
    "\n",
    "# Формируем итоговую сводную таблицу, в которой для каждой пары (gender, dob_years_interval)\n",
    "# будут храниться среднее значение days_employed и total_income\n",
    "days_employed_income_pivot = data_wo_mistakes.pivot_table(\n",
    "    index=['gender', 'dob_years_interval'], \n",
    "    values=['days_employed', 'total_income'], \n",
    "    aggfunc={'days_employed': ['count', 'mean'], 'total_income': 'mean'})\n",
    "\n",
    "# Для простоты дальнейшей работы:\n",
    "# убираем \"сводность\" таблицы\n",
    "# меняем имена колонок на немультииндексные\n",
    "days_employed_income = days_employed_income_pivot.reset_index()\n",
    "days_employed_income.set_axis(['gender', 'dob_years_interval', 'clients', 'days_employed_mean', 'total_income_mean'],\n",
    "                             axis='columns',\n",
    "                             inplace=True)\n",
    "\n",
    "print(days_employed_income)"
   ]
  },
  {
   "cell_type": "markdown",
   "metadata": {},
   "source": [
    "Ну что сказать - данные о стаже days_employed мягко говоря \"битые\": вряд ли 60+ летние мужчины имеют средний стаж 8 лет.Безусловно тут требуется контакт с отделом отвечающим за выгрузку данных. С учетом наличия и отрицательных данных в этой колонке - предполагаю <b>технологический характер</b> ошибки (проблемы при выгрузке)."
   ]
  },
  {
   "cell_type": "code",
   "execution_count": 11,
   "metadata": {},
   "outputs": [
    {
     "name": "stdout",
     "output_type": "stream",
     "text": [
      "0\n"
     ]
    }
   ],
   "source": [
    "# И теперь заменяем пустые значения в data\n",
    "# Для этого присоединяем к таблице data таблицу days_employed_income и в итоговой таблице заменяем пустые значения: \n",
    "#     в колонке days_employed значением из колонки days_employed_mean сводной таблицы\n",
    "#     в колонке total_income значением из колонки total_income_mean сводной таблицы\n",
    "data['dob_years_interval'] = data['dob_years'].apply(get_dob_years_interval)\n",
    "\n",
    "data = data.merge(days_employed_income, on=['gender', 'dob_years_interval'], how='left')\n",
    "\n",
    "# !!!!!!!!!!!!!!!!!!!!!!!!\n",
    "# Первоначально замену пустых значений делал вот так, но постоянно возникала ошибка:\n",
    "# A value is trying to be set on a copy of a slice from a DataFrame.\n",
    "# data[data['days_employed'] == 0]['days_employed'] = data['days_employed_mean']\n",
    "# data[data['total_income'] == 0]['total_income'] = data['total_income_mean']\n",
    "# Буду очень признателен, если подскажите как эту ошибку надо было обойти \n",
    "# (кроме варианта создания нового df: data1 = data.merge...)\n",
    "\n",
    "def get_days_employed(row):\n",
    "    if row['days_employed'] == 0:\n",
    "        return row['days_employed_mean']\n",
    "    else: return row['days_employed']\n",
    "\n",
    "def get_total_income(row):\n",
    "    if row['total_income'] == 0:\n",
    "        return row['total_income_mean']\n",
    "    else: return row['total_income']\n",
    "\n",
    "data['days_employed'] = data.apply(get_days_employed, axis=1)\n",
    "data['total_income'] = data.apply(get_total_income, axis=1)\n",
    "\n",
    "# Удаляем лишние колонки\n",
    "data.drop(['clients', 'days_employed_mean', 'total_income_mean'], axis='columns', inplace=True)\n",
    "\n",
    "# Проверяем, что все значения заполнились\n",
    "print(data[(data['days_employed'] == 0) & (data['total_income'] == 0)].shape[0])"
   ]
  },
  {
   "cell_type": "code",
   "execution_count": 12,
   "metadata": {},
   "outputs": [
    {
     "name": "stdout",
     "output_type": "stream",
     "text": [
      "[ 1  0  3  2 -1  4 20  5]\n",
      "children - строк с ошибками 47\n",
      "children - строк с ошибками 75\n"
     ]
    }
   ],
   "source": [
    "# Проверяем остальные колонки на предмет артефактов\n",
    "\n",
    "# children\n",
    "print(data['children'].unique())\n",
    "\n",
    "# В количестве детей присутствует несколько записей с -1 и 20 детьми. Таких записей немного:\n",
    "print('children - строк с ошибками', data[data['children'] == -1].shape[0])\n",
    "print('children - строк с ошибками', data[data['children'] == 20].shape[0])"
   ]
  },
  {
   "cell_type": "markdown",
   "metadata": {},
   "source": [
    "Для поля children предполагаю <b>технологический фактор</b> в появлении ошибок - необходимо связаться с отделом, предоставившим файл выгрузки. С трудом верится, что 75 клиентов указали ровно 20 детей (почему не 100, например)."
   ]
  },
  {
   "cell_type": "code",
   "execution_count": 13,
   "metadata": {},
   "outputs": [
    {
     "name": "stdout",
     "output_type": "stream",
     "text": [
      "Количество детей медиана: 0.0\n",
      "[1 0 3 2 4 5]\n"
     ]
    }
   ],
   "source": [
    "# Принял решение заменить значения в этих строках медианным значением. \n",
    "# Если оно окажется дробным - округляем до целого по математическим правилам\n",
    "children_median = data[(data['children'] != -1) & (data['children'] != 20)]['children'].median()\n",
    "print('Количество детей медиана:', children_median)\n",
    "\n",
    "data.loc[(data['children'] == -1) | (data['children'] == 20), 'children'] = int(children_median)\n",
    "\n",
    "print(data['children'].unique())"
   ]
  },
  {
   "cell_type": "code",
   "execution_count": 14,
   "metadata": {
    "scrolled": false
   },
   "outputs": [
    {
     "data": {
      "text/html": [
       "<div>\n",
       "<style scoped>\n",
       "    .dataframe tbody tr th:only-of-type {\n",
       "        vertical-align: middle;\n",
       "    }\n",
       "\n",
       "    .dataframe tbody tr th {\n",
       "        vertical-align: top;\n",
       "    }\n",
       "\n",
       "    .dataframe thead th {\n",
       "        text-align: right;\n",
       "    }\n",
       "</style>\n",
       "<table border=\"1\" class=\"dataframe\">\n",
       "  <thead>\n",
       "    <tr style=\"text-align: right;\">\n",
       "      <th></th>\n",
       "      <th>education</th>\n",
       "      <th>education_id</th>\n",
       "    </tr>\n",
       "  </thead>\n",
       "  <tbody>\n",
       "    <tr>\n",
       "      <td>0</td>\n",
       "      <td>высшее</td>\n",
       "      <td>0</td>\n",
       "    </tr>\n",
       "    <tr>\n",
       "      <td>1</td>\n",
       "      <td>ВЫСШЕЕ</td>\n",
       "      <td>0</td>\n",
       "    </tr>\n",
       "    <tr>\n",
       "      <td>2</td>\n",
       "      <td>Высшее</td>\n",
       "      <td>0</td>\n",
       "    </tr>\n",
       "    <tr>\n",
       "      <td>3</td>\n",
       "      <td>среднее</td>\n",
       "      <td>1</td>\n",
       "    </tr>\n",
       "    <tr>\n",
       "      <td>4</td>\n",
       "      <td>Среднее</td>\n",
       "      <td>1</td>\n",
       "    </tr>\n",
       "    <tr>\n",
       "      <td>5</td>\n",
       "      <td>СРЕДНЕЕ</td>\n",
       "      <td>1</td>\n",
       "    </tr>\n",
       "    <tr>\n",
       "      <td>6</td>\n",
       "      <td>неоконченное высшее</td>\n",
       "      <td>2</td>\n",
       "    </tr>\n",
       "    <tr>\n",
       "      <td>7</td>\n",
       "      <td>НЕОКОНЧЕННОЕ ВЫСШЕЕ</td>\n",
       "      <td>2</td>\n",
       "    </tr>\n",
       "    <tr>\n",
       "      <td>8</td>\n",
       "      <td>Неоконченное высшее</td>\n",
       "      <td>2</td>\n",
       "    </tr>\n",
       "    <tr>\n",
       "      <td>9</td>\n",
       "      <td>начальное</td>\n",
       "      <td>3</td>\n",
       "    </tr>\n",
       "    <tr>\n",
       "      <td>10</td>\n",
       "      <td>НАЧАЛЬНОЕ</td>\n",
       "      <td>3</td>\n",
       "    </tr>\n",
       "    <tr>\n",
       "      <td>11</td>\n",
       "      <td>Начальное</td>\n",
       "      <td>3</td>\n",
       "    </tr>\n",
       "    <tr>\n",
       "      <td>12</td>\n",
       "      <td>Ученая степень</td>\n",
       "      <td>4</td>\n",
       "    </tr>\n",
       "    <tr>\n",
       "      <td>13</td>\n",
       "      <td>УЧЕНАЯ СТЕПЕНЬ</td>\n",
       "      <td>4</td>\n",
       "    </tr>\n",
       "    <tr>\n",
       "      <td>14</td>\n",
       "      <td>ученая степень</td>\n",
       "      <td>4</td>\n",
       "    </tr>\n",
       "  </tbody>\n",
       "</table>\n",
       "</div>"
      ],
      "text/plain": [
       "              education  education_id\n",
       "0                высшее             0\n",
       "1                ВЫСШЕЕ             0\n",
       "2                Высшее             0\n",
       "3               среднее             1\n",
       "4               Среднее             1\n",
       "5               СРЕДНЕЕ             1\n",
       "6   неоконченное высшее             2\n",
       "7   НЕОКОНЧЕННОЕ ВЫСШЕЕ             2\n",
       "8   Неоконченное высшее             2\n",
       "9             начальное             3\n",
       "10            НАЧАЛЬНОЕ             3\n",
       "11            Начальное             3\n",
       "12       Ученая степень             4\n",
       "13       УЧЕНАЯ СТЕПЕНЬ             4\n",
       "14       ученая степень             4"
      ]
     },
     "execution_count": 14,
     "metadata": {},
     "output_type": "execute_result"
    }
   ],
   "source": [
    "# education, education_id\n",
    "education_dict = data[['education', 'education_id']]\n",
    "education_dict = education_dict.drop_duplicates().reset_index(drop=True).sort_values(by='education_id').reset_index(drop=True)\n",
    "education_dict\n",
    "# Все в порядке, лемматизацию проведем позднее"
   ]
  },
  {
   "cell_type": "code",
   "execution_count": 15,
   "metadata": {},
   "outputs": [
    {
     "data": {
      "text/html": [
       "<div>\n",
       "<style scoped>\n",
       "    .dataframe tbody tr th:only-of-type {\n",
       "        vertical-align: middle;\n",
       "    }\n",
       "\n",
       "    .dataframe tbody tr th {\n",
       "        vertical-align: top;\n",
       "    }\n",
       "\n",
       "    .dataframe thead th {\n",
       "        text-align: right;\n",
       "    }\n",
       "</style>\n",
       "<table border=\"1\" class=\"dataframe\">\n",
       "  <thead>\n",
       "    <tr style=\"text-align: right;\">\n",
       "      <th></th>\n",
       "      <th>family_status</th>\n",
       "      <th>family_status_id</th>\n",
       "    </tr>\n",
       "  </thead>\n",
       "  <tbody>\n",
       "    <tr>\n",
       "      <td>0</td>\n",
       "      <td>женат / замужем</td>\n",
       "      <td>0</td>\n",
       "    </tr>\n",
       "    <tr>\n",
       "      <td>1</td>\n",
       "      <td>гражданский брак</td>\n",
       "      <td>1</td>\n",
       "    </tr>\n",
       "    <tr>\n",
       "      <td>2</td>\n",
       "      <td>вдовец / вдова</td>\n",
       "      <td>2</td>\n",
       "    </tr>\n",
       "    <tr>\n",
       "      <td>3</td>\n",
       "      <td>в разводе</td>\n",
       "      <td>3</td>\n",
       "    </tr>\n",
       "    <tr>\n",
       "      <td>4</td>\n",
       "      <td>Не женат / не замужем</td>\n",
       "      <td>4</td>\n",
       "    </tr>\n",
       "  </tbody>\n",
       "</table>\n",
       "</div>"
      ],
      "text/plain": [
       "           family_status  family_status_id\n",
       "0        женат / замужем                 0\n",
       "1       гражданский брак                 1\n",
       "2         вдовец / вдова                 2\n",
       "3              в разводе                 3\n",
       "4  Не женат / не замужем                 4"
      ]
     },
     "execution_count": 15,
     "metadata": {},
     "output_type": "execute_result"
    }
   ],
   "source": [
    "# family_status, family_status_id\n",
    "family_status_dict = data[['family_status', 'family_status_id']]\n",
    "family_status_dict = family_status_dict.drop_duplicates().reset_index(drop=True).sort_values(by='family_status_id').reset_index(drop=True)\n",
    "family_status_dict\n",
    "# Все в порядке"
   ]
  },
  {
   "cell_type": "code",
   "execution_count": 16,
   "metadata": {},
   "outputs": [
    {
     "name": "stdout",
     "output_type": "stream",
     "text": [
      "['сотрудник' 'пенсионер' 'компаньон' 'госслужащий' 'безработный'\n",
      " 'предприниматель' 'студент' 'в декрете']\n",
      "[0 1]\n",
      "['покупка жилья' 'приобретение автомобиля' 'дополнительное образование'\n",
      " 'сыграть свадьбу' 'операции с жильем' 'образование'\n",
      " 'на проведение свадьбы' 'покупка жилья для семьи' 'покупка недвижимости'\n",
      " 'покупка коммерческой недвижимости' 'покупка жилой недвижимости'\n",
      " 'строительство собственной недвижимости' 'недвижимость'\n",
      " 'строительство недвижимости' 'на покупку подержанного автомобиля'\n",
      " 'на покупку своего автомобиля' 'операции с коммерческой недвижимостью'\n",
      " 'строительство жилой недвижимости' 'жилье'\n",
      " 'операции со своей недвижимостью' 'автомобили' 'заняться образованием'\n",
      " 'сделка с подержанным автомобилем' 'получение образования' 'автомобиль'\n",
      " 'свадьба' 'получение дополнительного образования' 'покупка своего жилья'\n",
      " 'операции с недвижимостью' 'получение высшего образования'\n",
      " 'свой автомобиль' 'сделка с автомобилем' 'профильное образование'\n",
      " 'высшее образование' 'покупка жилья для сдачи' 'на покупку автомобиля'\n",
      " 'ремонт жилью' 'заняться высшим образованием']\n"
     ]
    }
   ],
   "source": [
    "# income_type, debt, purpose\n",
    "print(data['income_type'].unique())\n",
    "print(data['debt'].unique())\n",
    "print(data['purpose'].unique())\n",
    "# Все в порядке"
   ]
  },
  {
   "cell_type": "markdown",
   "metadata": {},
   "source": [
    "### Вывод"
   ]
  },
  {
   "cell_type": "markdown",
   "metadata": {},
   "source": [
    "Мы изучили предоставленный файл:\n",
    "* были удалены строки с незаполненными возрастами и полом\n",
    "* были восстановлены незаполненные данные о трудовом стаже и ежемесячном доходе\n",
    "* были заменены артефактные значения о количестве детей\n",
    "* все остальные колонки были проверены на полноту информации"
   ]
  },
  {
   "cell_type": "markdown",
   "metadata": {},
   "source": [
    "### Замена типа данных"
   ]
  },
  {
   "cell_type": "code",
   "execution_count": 17,
   "metadata": {},
   "outputs": [
    {
     "name": "stdout",
     "output_type": "stream",
     "text": [
      "<class 'pandas.core.frame.DataFrame'>\n",
      "Int64Index: 21423 entries, 0 to 21422\n",
      "Data columns (total 13 columns):\n",
      "children              21423 non-null int64\n",
      "days_employed         21423 non-null float64\n",
      "dob_years             21423 non-null int64\n",
      "education             21423 non-null object\n",
      "education_id          21423 non-null int64\n",
      "family_status         21423 non-null object\n",
      "family_status_id      21423 non-null int64\n",
      "gender                21423 non-null object\n",
      "income_type           21423 non-null object\n",
      "debt                  21423 non-null int64\n",
      "total_income          21423 non-null float64\n",
      "purpose               21423 non-null object\n",
      "dob_years_interval    21423 non-null object\n",
      "dtypes: float64(2), int64(5), object(6)\n",
      "memory usage: 2.3+ MB\n",
      "None\n"
     ]
    }
   ],
   "source": [
    "# Повторно выведем информацию о колонках таблицы:\n",
    "print(data.info())"
   ]
  },
  {
   "cell_type": "code",
   "execution_count": 18,
   "metadata": {},
   "outputs": [
    {
     "name": "stdout",
     "output_type": "stream",
     "text": [
      "<class 'pandas.core.frame.DataFrame'>\n",
      "Int64Index: 21423 entries, 0 to 21422\n",
      "Data columns (total 13 columns):\n",
      "children              21423 non-null int64\n",
      "days_employed         21423 non-null int64\n",
      "dob_years             21423 non-null int64\n",
      "education             21423 non-null object\n",
      "education_id          21423 non-null int64\n",
      "family_status         21423 non-null object\n",
      "family_status_id      21423 non-null int64\n",
      "gender                21423 non-null object\n",
      "income_type           21423 non-null object\n",
      "debt                  21423 non-null int64\n",
      "total_income          21423 non-null int64\n",
      "purpose               21423 non-null object\n",
      "dob_years_interval    21423 non-null object\n",
      "dtypes: int64(7), object(6)\n",
      "memory usage: 2.3+ MB\n",
      "None\n"
     ]
    },
    {
     "data": {
      "text/html": [
       "<div>\n",
       "<style scoped>\n",
       "    .dataframe tbody tr th:only-of-type {\n",
       "        vertical-align: middle;\n",
       "    }\n",
       "\n",
       "    .dataframe tbody tr th {\n",
       "        vertical-align: top;\n",
       "    }\n",
       "\n",
       "    .dataframe thead th {\n",
       "        text-align: right;\n",
       "    }\n",
       "</style>\n",
       "<table border=\"1\" class=\"dataframe\">\n",
       "  <thead>\n",
       "    <tr style=\"text-align: right;\">\n",
       "      <th></th>\n",
       "      <th>children</th>\n",
       "      <th>days_employed</th>\n",
       "      <th>dob_years</th>\n",
       "      <th>education</th>\n",
       "      <th>education_id</th>\n",
       "      <th>family_status</th>\n",
       "      <th>family_status_id</th>\n",
       "      <th>gender</th>\n",
       "      <th>income_type</th>\n",
       "      <th>debt</th>\n",
       "      <th>total_income</th>\n",
       "      <th>purpose</th>\n",
       "      <th>dob_years_interval</th>\n",
       "    </tr>\n",
       "  </thead>\n",
       "  <tbody>\n",
       "    <tr>\n",
       "      <td>0</td>\n",
       "      <td>1</td>\n",
       "      <td>8437</td>\n",
       "      <td>42</td>\n",
       "      <td>высшее</td>\n",
       "      <td>0</td>\n",
       "      <td>женат / замужем</td>\n",
       "      <td>0</td>\n",
       "      <td>F</td>\n",
       "      <td>сотрудник</td>\n",
       "      <td>0</td>\n",
       "      <td>253875</td>\n",
       "      <td>покупка жилья</td>\n",
       "      <td>41-50</td>\n",
       "    </tr>\n",
       "    <tr>\n",
       "      <td>1</td>\n",
       "      <td>1</td>\n",
       "      <td>4024</td>\n",
       "      <td>36</td>\n",
       "      <td>среднее</td>\n",
       "      <td>1</td>\n",
       "      <td>женат / замужем</td>\n",
       "      <td>0</td>\n",
       "      <td>F</td>\n",
       "      <td>сотрудник</td>\n",
       "      <td>0</td>\n",
       "      <td>112080</td>\n",
       "      <td>приобретение автомобиля</td>\n",
       "      <td>31-40</td>\n",
       "    </tr>\n",
       "    <tr>\n",
       "      <td>2</td>\n",
       "      <td>0</td>\n",
       "      <td>5623</td>\n",
       "      <td>33</td>\n",
       "      <td>Среднее</td>\n",
       "      <td>1</td>\n",
       "      <td>женат / замужем</td>\n",
       "      <td>0</td>\n",
       "      <td>M</td>\n",
       "      <td>сотрудник</td>\n",
       "      <td>0</td>\n",
       "      <td>145885</td>\n",
       "      <td>покупка жилья</td>\n",
       "      <td>31-40</td>\n",
       "    </tr>\n",
       "    <tr>\n",
       "      <td>3</td>\n",
       "      <td>3</td>\n",
       "      <td>4124</td>\n",
       "      <td>32</td>\n",
       "      <td>среднее</td>\n",
       "      <td>1</td>\n",
       "      <td>женат / замужем</td>\n",
       "      <td>0</td>\n",
       "      <td>M</td>\n",
       "      <td>сотрудник</td>\n",
       "      <td>0</td>\n",
       "      <td>267628</td>\n",
       "      <td>дополнительное образование</td>\n",
       "      <td>31-40</td>\n",
       "    </tr>\n",
       "    <tr>\n",
       "      <td>4</td>\n",
       "      <td>0</td>\n",
       "      <td>3568</td>\n",
       "      <td>53</td>\n",
       "      <td>среднее</td>\n",
       "      <td>1</td>\n",
       "      <td>гражданский брак</td>\n",
       "      <td>1</td>\n",
       "      <td>F</td>\n",
       "      <td>пенсионер</td>\n",
       "      <td>0</td>\n",
       "      <td>158616</td>\n",
       "      <td>сыграть свадьбу</td>\n",
       "      <td>51-60</td>\n",
       "    </tr>\n",
       "  </tbody>\n",
       "</table>\n",
       "</div>"
      ],
      "text/plain": [
       "   children  days_employed  dob_years education  education_id  \\\n",
       "0         1           8437         42    высшее             0   \n",
       "1         1           4024         36   среднее             1   \n",
       "2         0           5623         33   Среднее             1   \n",
       "3         3           4124         32   среднее             1   \n",
       "4         0           3568         53   среднее             1   \n",
       "\n",
       "      family_status  family_status_id gender income_type  debt  total_income  \\\n",
       "0   женат / замужем                 0      F   сотрудник     0        253875   \n",
       "1   женат / замужем                 0      F   сотрудник     0        112080   \n",
       "2   женат / замужем                 0      M   сотрудник     0        145885   \n",
       "3   женат / замужем                 0      M   сотрудник     0        267628   \n",
       "4  гражданский брак                 1      F   пенсионер     0        158616   \n",
       "\n",
       "                      purpose dob_years_interval  \n",
       "0               покупка жилья              41-50  \n",
       "1     приобретение автомобиля              31-40  \n",
       "2               покупка жилья              31-40  \n",
       "3  дополнительное образование              31-40  \n",
       "4             сыграть свадьбу              51-60  "
      ]
     },
     "execution_count": 18,
     "metadata": {},
     "output_type": "execute_result"
    }
   ],
   "source": [
    "# Очевидно, что тип данных в колонках days_employed и total_income может быть заменен с float на int\n",
    "data['days_employed'] = data['days_employed'].astype('int')\n",
    "data['total_income'] = data['total_income'].astype('int')\n",
    "print(data.info())\n",
    "data.head()"
   ]
  },
  {
   "cell_type": "markdown",
   "metadata": {},
   "source": [
    "### Обработка дубликатов"
   ]
  },
  {
   "cell_type": "code",
   "execution_count": 19,
   "metadata": {},
   "outputs": [
    {
     "data": {
      "text/html": [
       "<div>\n",
       "<style scoped>\n",
       "    .dataframe tbody tr th:only-of-type {\n",
       "        vertical-align: middle;\n",
       "    }\n",
       "\n",
       "    .dataframe tbody tr th {\n",
       "        vertical-align: top;\n",
       "    }\n",
       "\n",
       "    .dataframe thead th {\n",
       "        text-align: right;\n",
       "    }\n",
       "</style>\n",
       "<table border=\"1\" class=\"dataframe\">\n",
       "  <thead>\n",
       "    <tr style=\"text-align: right;\">\n",
       "      <th></th>\n",
       "      <th>education</th>\n",
       "      <th>education_id</th>\n",
       "    </tr>\n",
       "  </thead>\n",
       "  <tbody>\n",
       "    <tr>\n",
       "      <td>0</td>\n",
       "      <td>высшее</td>\n",
       "      <td>0</td>\n",
       "    </tr>\n",
       "    <tr>\n",
       "      <td>1</td>\n",
       "      <td>среднее</td>\n",
       "      <td>1</td>\n",
       "    </tr>\n",
       "    <tr>\n",
       "      <td>2</td>\n",
       "      <td>неоконченное высшее</td>\n",
       "      <td>2</td>\n",
       "    </tr>\n",
       "    <tr>\n",
       "      <td>3</td>\n",
       "      <td>начальное</td>\n",
       "      <td>3</td>\n",
       "    </tr>\n",
       "    <tr>\n",
       "      <td>4</td>\n",
       "      <td>ученая степень</td>\n",
       "      <td>4</td>\n",
       "    </tr>\n",
       "  </tbody>\n",
       "</table>\n",
       "</div>"
      ],
      "text/plain": [
       "             education  education_id\n",
       "0               высшее             0\n",
       "1              среднее             1\n",
       "2  неоконченное высшее             2\n",
       "3            начальное             3\n",
       "4       ученая степень             4"
      ]
     },
     "execution_count": 19,
     "metadata": {},
     "output_type": "execute_result"
    }
   ],
   "source": [
    "# Ранее мы создали dataframe-справочник education_dict\n",
    "# В нем в колонке education присутствуют дубли,\n",
    "# от них можно избавиться, если привести значения к нижнему регистру\n",
    "education_dict['education'] = education_dict['education'].str.lower()\n",
    "education_dict = education_dict.drop_duplicates().reset_index(drop=True)\n",
    "education_dict"
   ]
  },
  {
   "cell_type": "code",
   "execution_count": 20,
   "metadata": {},
   "outputs": [
    {
     "name": "stdout",
     "output_type": "stream",
     "text": [
      "<class 'pandas.core.frame.DataFrame'>\n",
      "Int64Index: 21423 entries, 0 to 21422\n",
      "Data columns (total 11 columns):\n",
      "children              21423 non-null int64\n",
      "days_employed         21423 non-null int64\n",
      "dob_years             21423 non-null int64\n",
      "education_id          21423 non-null int64\n",
      "family_status_id      21423 non-null int64\n",
      "gender                21423 non-null object\n",
      "income_type           21423 non-null object\n",
      "debt                  21423 non-null int64\n",
      "total_income          21423 non-null int64\n",
      "purpose               21423 non-null object\n",
      "dob_years_interval    21423 non-null object\n",
      "dtypes: int64(7), object(4)\n",
      "memory usage: 2.0+ MB\n",
      "None\n"
     ]
    }
   ],
   "source": [
    "# Поскольку мы создали отдельный словарь, то в таблице data можно оставить только колонку education_id\n",
    "# Также у нас есть отдельный словать family_status_dict, и он без дублей. Из таблицы data удалим колонку family_status\n",
    "data = data.drop(columns=['education', 'family_status'], axis=1)\n",
    "print(data.info())"
   ]
  },
  {
   "cell_type": "markdown",
   "metadata": {},
   "source": [
    "### Вывод"
   ]
  },
  {
   "cell_type": "markdown",
   "metadata": {},
   "source": [
    "Мы удалили дубли из созданных ранее словарей education_dict и family_status_dict используя приведение к нижнему регистру.\n",
    "В связи с использованием словарей мы удалили избыточную информацию из таблицы data (колонки education и family_status)."
   ]
  },
  {
   "cell_type": "markdown",
   "metadata": {},
   "source": [
    "### Лемматизация"
   ]
  },
  {
   "cell_type": "code",
   "execution_count": 21,
   "metadata": {},
   "outputs": [
    {
     "name": "stdout",
     "output_type": "stream",
     "text": [
      "['недвижимость' 'автомобиль' 'образование' 'свадьба']\n"
     ]
    }
   ],
   "source": [
    "# В колонке purpose имеются явные дубли, которые нужно привести к общему знаменателю. \n",
    "# Основными целями получения кредитов - являются покупка недвижимости, автомобиля и т.п.,\n",
    "# но все это описано разными словами.\n",
    "# Используем лемматизацию\n",
    "from pymystem3 import Mystem\n",
    "m = Mystem()\n",
    "\n",
    "def get_purpose_essence(purpose):\n",
    "    lemmas = m.lemmatize(purpose)\n",
    "    if ('жилье' in lemmas) or ('недвижимость' in lemmas):\n",
    "        return 'недвижимость'\n",
    "    if 'автомобиль' in lemmas:\n",
    "        return 'автомобиль'\n",
    "    if 'образование' in lemmas:\n",
    "        return 'образование'\n",
    "    if 'свадьба' in lemmas:\n",
    "        return 'свадьба'\n",
    "    else: return purpose\n",
    "\n",
    "data['purpose_essence'] = data['purpose'].apply(get_purpose_essence)\n",
    "print(data['purpose_essence'].unique())"
   ]
  },
  {
   "cell_type": "markdown",
   "metadata": {},
   "source": [
    "### Вывод"
   ]
  },
  {
   "cell_type": "markdown",
   "metadata": {},
   "source": [
    "С использованием лемматизации мы выделили главную цель получения кредита"
   ]
  },
  {
   "cell_type": "markdown",
   "metadata": {},
   "source": [
    "### Категоризация данных"
   ]
  },
  {
   "cell_type": "markdown",
   "metadata": {},
   "source": [
    "Категоризацию <b>по возрастным группам</b> (колонка dob_years_interval) использовали ранее для заполнения пропущенных значений в стаже и доходе.\n",
    "\n",
    "Далее будет задан вопрос о зависимости между уровнем дохода и возвратом кредита в срок. Категоризацию таблицы <b>по уровню дохода</b> мы еще не проводили."
   ]
  },
  {
   "cell_type": "code",
   "execution_count": 22,
   "metadata": {},
   "outputs": [
    {
     "name": "stdout",
     "output_type": "stream",
     "text": [
      "98686.40000000002\n",
      "135618.2\n",
      "166322.0\n",
      "214193.00000000006\n"
     ]
    }
   ],
   "source": [
    "# Категоризация по уровню дохода\n",
    "# Используя квантили подберем оптимальное разделение по уровню дохода, чтобы категоризация была показательной\n",
    "import numpy as np\n",
    "print(np.quantile(data['total_income'], 0.2))\n",
    "print(np.quantile(data['total_income'], 0.4))\n",
    "print(np.quantile(data['total_income'], 0.6))\n",
    "print(np.quantile(data['total_income'], 0.8))"
   ]
  },
  {
   "cell_type": "code",
   "execution_count": 23,
   "metadata": {},
   "outputs": [
    {
     "name": "stdout",
     "output_type": "stream",
     "text": [
      "total_income_interval\n",
      "0-100      4440\n",
      "100-135    4062\n",
      "135-165    4021\n",
      "165-215    4654\n",
      "215+       4246\n",
      "Name: total_income_interval, dtype: int64\n"
     ]
    }
   ],
   "source": [
    "# Полученные значения немного округлим для удобства\n",
    "def get_total_income_interval(total_income):\n",
    "    if total_income <= 100000:\n",
    "        return '0-100'\n",
    "    elif 100000 < total_income <= 135000:\n",
    "        return '100-135'\n",
    "    elif 135000 < total_income <= 165000:\n",
    "        return '135-165'\n",
    "    elif 165000 < total_income <= 215000:\n",
    "        return '165-215'\n",
    "    else: return '215+'\n",
    "        \n",
    "data['total_income_interval'] = data['total_income'].apply(get_total_income_interval)\n",
    "print(data.groupby('total_income_interval')['total_income_interval'].count())"
   ]
  },
  {
   "cell_type": "markdown",
   "metadata": {},
   "source": [
    "### Шаг 3. Ответьте на вопросы"
   ]
  },
  {
   "cell_type": "markdown",
   "metadata": {},
   "source": [
    "- Есть ли зависимость между наличием детей и возвратом кредита в срок?"
   ]
  },
  {
   "cell_type": "code",
   "execution_count": 25,
   "metadata": {},
   "outputs": [
    {
     "name": "stdout",
     "output_type": "stream",
     "text": [
      "children\n",
      "5    0.000000\n",
      "0    0.075136\n",
      "3    0.082317\n",
      "1    0.091837\n",
      "2    0.095005\n",
      "4    0.097561\n",
      "Name: debt, dtype: float64\n"
     ]
    }
   ],
   "source": [
    "# Заметим, что колонка debt принимающая значение от 0 до 1 станет удачной метрикой при подведении итогов. \n",
    "# Когда мы будем рассчитывать среднее значение debt по разным группам, то усредненный debt станет метрикой\n",
    "# для определения зависимости между выбранной категоризацией и возвратом кредита в срок:\n",
    "# чем ближе debt к 1, тем чаще данная группа клиентов имеет задолженность по возврату кредитов.\n",
    "\n",
    "data_children_debt = data.groupby('children')['debt'].mean().sort_values()\n",
    "print(data_children_debt)"
   ]
  },
  {
   "cell_type": "code",
   "execution_count": 26,
   "metadata": {},
   "outputs": [
    {
     "name": "stdout",
     "output_type": "stream",
     "text": [
      "children\n",
      "0    14201\n",
      "1     4802\n",
      "2     2042\n",
      "3      328\n",
      "4       41\n",
      "5        9\n",
      "Name: children, dtype: int64\n"
     ]
    }
   ],
   "source": [
    "print(data.groupby('children')['children'].count().sort_index())"
   ]
  },
  {
   "cell_type": "markdown",
   "metadata": {},
   "source": [
    "### Вывод"
   ]
  },
  {
   "cell_type": "markdown",
   "metadata": {},
   "source": [
    "<b>Заемщики с детьми чаще имеют задолженность по возврату кредитов</b>. Причем, чем больше детей, тем чаще просрочка. Правда почему-то заемщики с 5-ю детьми всегда все отдают в срок! Вероятно это из-за слишком маленькой и, поэтому, непоказательной выборки."
   ]
  },
  {
   "cell_type": "markdown",
   "metadata": {},
   "source": [
    "- Есть ли зависимость между семейным положением и возвратом кредита в срок?"
   ]
  },
  {
   "cell_type": "code",
   "execution_count": 27,
   "metadata": {},
   "outputs": [
    {
     "name": "stdout",
     "output_type": "stream",
     "text": [
      "   family_status_id      debt          family_status\n",
      "2                 2  0.064921         вдовец / вдова\n",
      "3                 3  0.071730              в разводе\n",
      "0                 0  0.075176        женат / замужем\n",
      "1                 1  0.092900       гражданский брак\n",
      "4                 4  0.097605  Не женат / не замужем\n"
     ]
    }
   ],
   "source": [
    "data_family_status_debt = data.groupby('family_status_id')['debt'].mean().to_frame()\n",
    "data_family_status_debt = data_family_status_debt.merge(family_status_dict, on='family_status_id', how='left').sort_values(by='debt')\n",
    "print(data_family_status_debt)"
   ]
  },
  {
   "cell_type": "markdown",
   "metadata": {},
   "source": [
    "### Вывод"
   ]
  },
  {
   "cell_type": "markdown",
   "metadata": {},
   "source": [
    "Результаты ожидаемые:\n",
    "* <b>вдовцы реже имеют задолженность</b>: наверное, среди них больше пожилых (и ответственных) людей?\n",
    "* <b>хуже всего отдают долги не женатые</b>: очевидно, семья учит ответственности"
   ]
  },
  {
   "cell_type": "code",
   "execution_count": 28,
   "metadata": {},
   "outputs": [
    {
     "name": "stdout",
     "output_type": "stream",
     "text": [
      "56.809424083769635\n"
     ]
    }
   ],
   "source": [
    "# Действительно: вдовцы - чаще пожилые люди:\n",
    "print(data[data['family_status_id'] == 2]['dob_years'].mean())"
   ]
  },
  {
   "cell_type": "code",
   "execution_count": 30,
   "metadata": {},
   "outputs": [
    {
     "name": "stdout",
     "output_type": "stream",
     "text": [
      "dob_years_interval\n",
      "0-20     0.076923\n",
      "21-30    0.108832\n",
      "31-40    0.095072\n",
      "41-50    0.076384\n",
      "51-60    0.061647\n",
      "60+      0.047196\n",
      "Name: debt, dtype: float64\n"
     ]
    }
   ],
   "source": [
    "# Дополнительно проверим зависимость между возрастом и возвратом кредита в срок\n",
    "data_dob_years_interval_debt = data.groupby('dob_years_interval')['debt'].mean().sort_index()\n",
    "print(data_dob_years_interval_debt)"
   ]
  },
  {
   "cell_type": "markdown",
   "metadata": {},
   "source": [
    "Ну а тут прямо нормальное распределение))) И да - <b>пожилые лучше отдают кредиты</b>."
   ]
  },
  {
   "cell_type": "markdown",
   "metadata": {},
   "source": [
    "- Есть ли зависимость между уровнем дохода и возвратом кредита в срок?"
   ]
  },
  {
   "cell_type": "code",
   "execution_count": 31,
   "metadata": {},
   "outputs": [
    {
     "name": "stdout",
     "output_type": "stream",
     "text": [
      "                           debt\n",
      "total_income_interval          \n",
      "215+                   0.070184\n",
      "0-100                  0.079505\n",
      "100-135                0.083210\n",
      "135-165                0.085302\n",
      "165-215                0.086162\n"
     ]
    }
   ],
   "source": [
    "total_income_interval_debt = data.groupby('total_income_interval')['debt'].mean().to_frame().sort_values(by='debt')\n",
    "print(total_income_interval_debt)"
   ]
  },
  {
   "cell_type": "markdown",
   "metadata": {},
   "source": [
    "### Вывод"
   ]
  },
  {
   "cell_type": "markdown",
   "metadata": {},
   "source": [
    "<b>Кредит лучше отдают \"бедные\" люди и \"самые богатые\"</b>: и в том и в другом случае - \"деньги любят счет\""
   ]
  },
  {
   "cell_type": "markdown",
   "metadata": {},
   "source": [
    "- Как разные цели кредита влияют на его возврат в срок?"
   ]
  },
  {
   "cell_type": "code",
   "execution_count": 32,
   "metadata": {},
   "outputs": [
    {
     "name": "stdout",
     "output_type": "stream",
     "text": [
      "                     debt\n",
      "purpose_essence          \n",
      "недвижимость     0.072183\n",
      "свадьба          0.078835\n",
      "образование      0.092408\n",
      "автомобиль       0.093175\n"
     ]
    }
   ],
   "source": [
    "purpose_essence_debt = data.groupby('purpose_essence')['debt'].mean().to_frame().sort_values(by='debt')\n",
    "print(purpose_essence_debt)"
   ]
  },
  {
   "cell_type": "markdown",
   "metadata": {},
   "source": [
    "### Вывод"
   ]
  },
  {
   "cell_type": "markdown",
   "metadata": {},
   "source": [
    "<b>По ипотеке реже всего возникает задолженность</b>, несмотря на большую сумму кредита. Причина ясна: жилье очень важная покупка - не платишь и негде жить!"
   ]
  },
  {
   "cell_type": "markdown",
   "metadata": {},
   "source": [
    "### Пол заемщика"
   ]
  },
  {
   "cell_type": "markdown",
   "metadata": {},
   "source": [
    "Для полноты картины определим зависимость от пола заемщика"
   ]
  },
  {
   "cell_type": "code",
   "execution_count": 35,
   "metadata": {},
   "outputs": [
    {
     "name": "stdout",
     "output_type": "stream",
     "text": [
      "            debt\n",
      "gender          \n",
      "F       0.069825\n",
      "M       0.102493\n"
     ]
    }
   ],
   "source": [
    "gender_debt = data.groupby('gender')['debt'].mean().to_frame().sort_values(by='debt')\n",
    "print(gender_debt)"
   ]
  },
  {
   "cell_type": "markdown",
   "metadata": {},
   "source": [
    "### Шаг 4. Общий вывод"
   ]
  },
  {
   "cell_type": "markdown",
   "metadata": {},
   "source": [
    "Был проведен анализ статистики платежеспособности клиентов банка.\n",
    "\n",
    "В предоставленном файле выявлены следующие проблемы: \n",
    "* в колонке <code>days_employed</code> явно присутствуют ошибочные данные, ошибка предположительно имеет технологический характер\n",
    "* в колонке <code>children</code> присутствуют артефактные значения -1 и 20\n",
    "\n",
    "Проблемы должны быть переданы сотруднику, отвечающему за выгрузку файла.\n",
    "\n",
    "Изначальными гипотезами, которые нужно было проверить: <i>\"влияет ли семейное положение и количество детей клиента\n",
    "на факт возврата кредита в срок?\"</i>. В ходе исследований выяснили - да, влияет. Действительно:\n",
    "* чем больше детей у заемщика, тем чаще он имеет задолженность по кредитам (только 7,5% бездетных клиентов имели задолженность, с появлением детей этот показатель рос и достиг 9,7% для клиентов с 4-мя детьми)\n",
    "* заметно меньше задолженности у клиентов, которые женаты/замужем (или были женаты/замужем ранее) (6,4-7,5% для разных категорий); клиенты, живущие в гражданском браке и холостые чаще имеют задолженность по кредитам (9,2% и 9,7% соответственно)\n",
    "\n",
    "Дополнительно были получены следующие результаты:\n",
    "* люди старшего возраста лучше возвращают кредиты (60 и старше - 4,7%)\n",
    "* реже всего возникает задолженность по ипотечным кредитам, чаще всего кредиту на автомобиль (7,2% против 9,3%)\n",
    "* женщины гораздо более ответствены при возврате кредитов (7% против 10,2%)\n",
    "\n",
    "Данный анализ можно использовать при построении модели кредитного скоринга."
   ]
  },
  {
   "cell_type": "code",
   "execution_count": null,
   "metadata": {},
   "outputs": [],
   "source": []
  }
 ],
 "metadata": {
  "kernelspec": {
   "display_name": "Python 3",
   "language": "python",
   "name": "python3"
  },
  "language_info": {
   "codemirror_mode": {
    "name": "ipython",
    "version": 3
   },
   "file_extension": ".py",
   "mimetype": "text/x-python",
   "name": "python",
   "nbconvert_exporter": "python",
   "pygments_lexer": "ipython3",
   "version": "3.7.4"
  }
 },
 "nbformat": 4,
 "nbformat_minor": 2
}
